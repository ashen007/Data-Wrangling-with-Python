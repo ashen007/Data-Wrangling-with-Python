{
 "cells": [
  {
   "cell_type": "code",
   "execution_count": 1,
   "metadata": {
    "collapsed": true
   },
   "outputs": [
    {
     "data": {
      "text/plain": "[['2002',\n  'January-March',\n  'Belgium',\n  '1-3  nights',\n  'Air',\n  'Holiday',\n  ' LONDON',\n  3.572185978,\n  0.969138388,\n  6.954456106,\n  '5'],\n ['2002',\n  'January-March',\n  'Belgium',\n  '1-3  nights',\n  'Air',\n  'Business',\n  ' LONDON',\n  9.284225881,\n  2.399576575,\n  12.60495917,\n  '19'],\n ['2002',\n  'January-March',\n  'Belgium',\n  '1-3  nights',\n  'Air',\n  'VFR',\n  ' LONDON',\n  0.877182007,\n  0.089833103,\n  2.153127983,\n  '3'],\n ['2002',\n  'January-March',\n  'Belgium',\n  '1-3  nights',\n  'Air',\n  'Miscellaneous',\n  ' LONDON',\n  0.163874,\n  0.0101602,\n  0.163874,\n  '1'],\n ['2002',\n  'January-March',\n  'Belgium',\n  '1-3  nights',\n  'Sea',\n  'Business',\n  ' LONDON',\n  1.648669958,\n  0.016789,\n  1.650300026,\n  '1'],\n ['2002',\n  'January-March',\n  'Belgium',\n  '1-3  nights',\n  'Sea',\n  'Miscellaneous',\n  ' LONDON',\n  0.590807021,\n  0.0039525,\n  1.772420049,\n  '1'],\n ['2002',\n  'January-March',\n  'Belgium',\n  '1-3  nights',\n  'Tunnel',\n  'Holiday',\n  ' LONDON',\n  10.94025093,\n  2.765472721,\n  23.24268785,\n  '30'],\n ['2002',\n  'January-March',\n  'Belgium',\n  '1-3  nights',\n  'Tunnel',\n  'Business',\n  ' LONDON',\n  6.052632034,\n  1.44669668,\n  10.42855498,\n  '16'],\n ['2002',\n  'January-March',\n  'Belgium',\n  '1-3  nights',\n  'Tunnel',\n  'VFR',\n  ' LONDON',\n  5.559403032,\n  0.468140161,\n  9.441415906,\n  '13'],\n ['2002',\n  'January-March',\n  'Belgium',\n  '1-3  nights',\n  'Tunnel',\n  'Miscellaneous',\n  ' LONDON',\n  0.704948008,\n  0.465720912,\n  1.409894019,\n  '2']]"
     },
     "execution_count": 1,
     "metadata": {},
     "output_type": "execute_result"
    }
   ],
   "source": [
    "import numpy as np\n",
    "import EX4\n",
    "\n",
    "dataset = EX4.clean_data('D:\\\\data visualition\\\\sample datasets\\\\london_visiters.csv')\n",
    "dataset[:10]"
   ]
  },
  {
   "cell_type": "code",
   "execution_count": 2,
   "outputs": [
    {
     "data": {
      "text/plain": "(59804, 59804)"
     },
     "execution_count": 2,
     "metadata": {},
     "output_type": "execute_result"
    }
   ],
   "source": [
    "spends = [row[8] for row in dataset]\n",
    "nights = [row[9] for row in dataset]\n",
    "len(spends), len(nights)"
   ],
   "metadata": {
    "collapsed": false,
    "pycharm": {
     "name": "#%%\n"
    }
   }
  },
  {
   "cell_type": "code",
   "execution_count": 3,
   "outputs": [
    {
     "data": {
      "text/plain": "array([0.96913839, 2.39957658, 0.0898331 , 0.0101602 , 0.016789  ,\n       0.0039525 , 2.76547272, 1.44669668, 0.46814016, 0.46572091])"
     },
     "execution_count": 3,
     "metadata": {},
     "output_type": "execute_result"
    }
   ],
   "source": [
    "spends = np.array(spends)\n",
    "spends[:10]"
   ],
   "metadata": {
    "collapsed": false,
    "pycharm": {
     "name": "#%%\n"
    }
   }
  },
  {
   "cell_type": "code",
   "execution_count": 4,
   "outputs": [
    {
     "data": {
      "text/plain": "array([ 6.95445611, 12.60495917,  2.15312798,  0.163874  ,  1.65030003,\n        1.77242005, 23.24268785, 10.42855498,  9.44141591,  1.40989402])"
     },
     "execution_count": 4,
     "metadata": {},
     "output_type": "execute_result"
    }
   ],
   "source": [
    "nights = np.array(nights)\n",
    "nights[:10]"
   ],
   "metadata": {
    "collapsed": false,
    "pycharm": {
     "name": "#%%\n"
    }
   }
  },
  {
   "cell_type": "code",
   "execution_count": 5,
   "outputs": [
    {
     "data": {
      "text/plain": "array([ 969138.388, 2399576.575,   89833.103,   10160.2  ,   16789.   ,\n          3952.5  , 2765472.721, 1446696.68 ,  468140.161,  465720.912])"
     },
     "execution_count": 5,
     "metadata": {},
     "output_type": "execute_result"
    }
   ],
   "source": [
    "spends_in_pounds = spends * 1000000\n",
    "spends_in_pounds[:10]"
   ],
   "metadata": {
    "collapsed": false,
    "pycharm": {
     "name": "#%%\n"
    }
   }
  },
  {
   "cell_type": "code",
   "execution_count": 6,
   "outputs": [
    {
     "data": {
      "text/plain": "array([139355.02262555, 190367.65947731,  41722.13807506,  62000.07322699,\n        10173.30166363,   2230.00185663, 118982.48338778, 138724.55798282,\n        49583.68169148, 330323.3475168 ])"
     },
     "execution_count": 6,
     "metadata": {},
     "output_type": "execute_result"
    }
   ],
   "source": [
    "spends_per_night = spends_in_pounds / nights\n",
    "spends_per_night[:10]"
   ],
   "metadata": {
    "collapsed": false,
    "pycharm": {
     "name": "#%%\n"
    }
   }
  },
  {
   "cell_type": "code",
   "execution_count": 8,
   "outputs": [
    {
     "name": "stderr",
     "output_type": "stream",
     "text": [
      "c:\\users\\ashen\\appdata\\local\\programs\\python\\python37\\lib\\site-packages\\ipykernel_launcher.py:1: RuntimeWarning: divide by zero encountered in log10\n",
      "  \"\"\"Entry point for launching an IPython kernel.\n"
     ]
    },
    {
     "data": {
      "text/plain": "array([5.14412263, 5.27959317, 4.62036656, ..., 4.83037479, 4.61891168,\n       4.70774326])"
     },
     "execution_count": 8,
     "metadata": {},
     "output_type": "execute_result"
    }
   ],
   "source": [
    "np.log10(spends_per_night)"
   ],
   "metadata": {
    "collapsed": false,
    "pycharm": {
     "name": "#%%\n"
    }
   }
  },
  {
   "cell_type": "code",
   "execution_count": 18,
   "outputs": [
    {
     "data": {
      "text/plain": "{1,\n 2,\n 3,\n 4,\n 5,\n 6,\n 7,\n 8,\n 9,\n 10,\n 11,\n 12,\n 13,\n 14,\n 15,\n 16,\n 17,\n 18,\n 19,\n 20,\n 21,\n 22,\n 23,\n 24,\n 25,\n 26,\n 27,\n 28,\n 29,\n 30,\n 31,\n 32,\n 33,\n 34,\n 35,\n 36,\n 37,\n 38,\n 39,\n 40,\n 41,\n 42,\n 43,\n 44,\n 45,\n 46,\n 47,\n 48,\n 49,\n 50,\n 51,\n 52,\n 53,\n 54,\n 55,\n 56,\n 57,\n 58,\n 59,\n 60,\n 61,\n 62,\n 63,\n 64,\n 65,\n 66,\n 67,\n 68,\n 69,\n 70,\n 71,\n 72,\n 73,\n 74,\n 75,\n 76,\n 77,\n 78,\n 79,\n 80,\n 81,\n 82,\n 83,\n 84,\n 85,\n 86,\n 87,\n 88,\n 89,\n 90,\n 91,\n 92,\n 93,\n 94,\n 95,\n 96,\n 97,\n 98,\n 99,\n 100,\n 101,\n 102,\n 103,\n 104,\n 105,\n 106,\n 107,\n 108,\n 109,\n 110,\n 111,\n 112,\n 113,\n 114,\n 115,\n 116,\n 117,\n 118,\n 119,\n 120,\n 121,\n 122,\n 123,\n 124,\n 125,\n 126,\n 127,\n 129,\n 130,\n 131,\n 132,\n 133,\n 134,\n 135,\n 136,\n 137,\n 138,\n 139,\n 140,\n 141,\n 142,\n 143,\n 144,\n 145,\n 146,\n 147,\n 148,\n 149,\n 157,\n 158,\n 162,\n 163,\n 164,\n 165,\n 166,\n 167,\n 169,\n 170,\n 171,\n 174,\n 175,\n 176,\n 177,\n 178,\n 180,\n 181,\n 182,\n 185,\n 186,\n 189,\n 190,\n 191,\n 192,\n 194,\n 197,\n 200,\n 206,\n 207,\n 212,\n 213,\n 219,\n 222,\n 223,\n 227,\n 229,\n 232,\n 234,\n 254,\n 263,\n 276,\n 277,\n 278,\n 284,\n 299}"
     },
     "execution_count": 18,
     "metadata": {},
     "output_type": "execute_result"
    }
   ],
   "source": [
    "sample = set([int(row[-1]) for row in dataset])\n",
    "sample"
   ],
   "metadata": {
    "collapsed": false,
    "pycharm": {
     "name": "#%%\n"
    }
   }
  },
  {
   "cell_type": "code",
   "execution_count": 25,
   "outputs": [
    {
     "data": {
      "text/plain": "array([[9.69138388e-01, 6.95445611e+00, 5.00000000e+00],\n       [2.39957658e+00, 1.26049592e+01, 1.90000000e+01],\n       [8.98331030e-02, 2.15312798e+00, 3.00000000e+00],\n       [1.01602000e-02, 1.63874000e-01, 1.00000000e+00],\n       [1.67890000e-02, 1.65030003e+00, 1.00000000e+00],\n       [3.95250000e-03, 1.77242005e+00, 1.00000000e+00],\n       [2.76547272e+00, 2.32426878e+01, 3.00000000e+01],\n       [1.44669668e+00, 1.04285550e+01, 1.60000000e+01],\n       [4.68140161e-01, 9.44141591e+00, 1.30000000e+01],\n       [4.65720912e-01, 1.40989402e+00, 2.00000000e+00]])"
     },
     "execution_count": 25,
     "metadata": {},
     "output_type": "execute_result"
    }
   ],
   "source": [
    "visitor_dtl = np.array([[row[8], row[9], int(row[10])] for row in dataset])\n",
    "visitor_dtl[:10]"
   ],
   "metadata": {
    "collapsed": false,
    "pycharm": {
     "name": "#%%\n"
    }
   }
  },
  {
   "cell_type": "code",
   "execution_count": 28,
   "outputs": [
    {
     "name": "stdout",
     "output_type": "stream",
     "text": [
      "dimension: 2, size: 179412, shape: (59804, 3), data type: float64\n"
     ]
    }
   ],
   "source": [
    "dimension = visitor_dtl.ndim\n",
    "size = visitor_dtl.size\n",
    "shape = visitor_dtl.shape\n",
    "dataType = visitor_dtl.dtype\n",
    "\n",
    "print(f'dimension: {dimension}, size: {size}, shape: {shape}, data type: {dataType}')"
   ],
   "metadata": {
    "collapsed": false,
    "pycharm": {
     "name": "#%%\n"
    }
   }
  },
  {
   "cell_type": "code",
   "execution_count": 30,
   "outputs": [
    {
     "data": {
      "text/plain": "array([[0, 0, 0, 0],\n       [0, 0, 0, 0],\n       [0, 0, 0, 0],\n       [0, 0, 0, 0]])"
     },
     "execution_count": 30,
     "metadata": {},
     "output_type": "execute_result"
    }
   ],
   "source": [
    "np.zeros((4,4), dtype=int)"
   ],
   "metadata": {
    "collapsed": false,
    "pycharm": {
     "name": "#%%\n"
    }
   }
  },
  {
   "cell_type": "code",
   "execution_count": 31,
   "outputs": [
    {
     "data": {
      "text/plain": "array([[1, 1, 1, 1],\n       [1, 1, 1, 1],\n       [1, 1, 1, 1],\n       [1, 1, 1, 1]])"
     },
     "execution_count": 31,
     "metadata": {},
     "output_type": "execute_result"
    }
   ],
   "source": [
    "np.ones((4,4), dtype=int)"
   ],
   "metadata": {
    "collapsed": false,
    "pycharm": {
     "name": "#%%\n"
    }
   }
  },
  {
   "cell_type": "code",
   "execution_count": 32,
   "outputs": [
    {
     "data": {
      "text/plain": "array([[1, 0, 0, 0],\n       [0, 1, 0, 0],\n       [0, 0, 1, 0],\n       [0, 0, 0, 1]])"
     },
     "execution_count": 32,
     "metadata": {},
     "output_type": "execute_result"
    }
   ],
   "source": [
    "np.eye((4), dtype=int)"
   ],
   "metadata": {
    "collapsed": false,
    "pycharm": {
     "name": "#%%\n"
    }
   }
  },
  {
   "cell_type": "code",
   "execution_count": 39,
   "outputs": [
    {
     "data": {
      "text/plain": "array([[91, 71, 84],\n       [54, 90, 87],\n       [17, 57, 63],\n       [48, 87, 31]])"
     },
     "execution_count": 39,
     "metadata": {},
     "output_type": "execute_result"
    }
   ],
   "source": [
    "data = np.random.randint(low=10, high=101, size=(4,3))\n",
    "data"
   ],
   "metadata": {
    "collapsed": false,
    "pycharm": {
     "name": "#%%\n"
    }
   }
  },
  {
   "cell_type": "code",
   "execution_count": 37,
   "outputs": [
    {
     "data": {
      "text/plain": "array([[12, 82, 63],\n       [57, 87, 16]])"
     },
     "execution_count": 37,
     "metadata": {},
     "output_type": "execute_result"
    }
   ],
   "source": [
    "data.reshape(2, 2, 3)"
   ],
   "metadata": {
    "collapsed": false,
    "pycharm": {
     "name": "#%%\n"
    }
   }
  },
  {
   "cell_type": "code",
   "execution_count": 38,
   "outputs": [
    {
     "data": {
      "text/plain": "array([[[12, 82],\n        [63, 57]],\n\n       [[87, 16],\n        [30, 70]],\n\n       [[57, 98],\n        [79, 88]]])"
     },
     "execution_count": 38,
     "metadata": {},
     "output_type": "execute_result"
    }
   ],
   "source": [
    "data.reshape(3, 2, 2)"
   ],
   "metadata": {
    "collapsed": false,
    "pycharm": {
     "name": "#%%\n"
    }
   }
  },
  {
   "cell_type": "code",
   "execution_count": 52,
   "outputs": [],
   "source": [
    "sub1 = np.random.randint(low=12, high=25, size=(3,3))\n",
    "sub2 = np.random.randint(low=36, high=64, size=(4,3))\n",
    "sub3 = sub2.reshape(1,3,4)"
   ],
   "metadata": {
    "collapsed": false,
    "pycharm": {
     "name": "#%%\n"
    }
   }
  },
  {
   "cell_type": "code",
   "execution_count": 53,
   "outputs": [
    {
     "data": {
      "text/plain": "array([[18, 20, 14],\n       [12, 12, 13],\n       [18, 15, 22]])"
     },
     "execution_count": 53,
     "metadata": {},
     "output_type": "execute_result"
    }
   ],
   "source": [
    "sub1"
   ],
   "metadata": {
    "collapsed": false,
    "pycharm": {
     "name": "#%%\n"
    }
   }
  },
  {
   "cell_type": "code",
   "execution_count": 54,
   "outputs": [
    {
     "data": {
      "text/plain": "array([[43, 52, 57],\n       [46, 45, 38],\n       [43, 49, 51],\n       [45, 45, 45]])"
     },
     "execution_count": 54,
     "metadata": {},
     "output_type": "execute_result"
    }
   ],
   "source": [
    "sub2"
   ],
   "metadata": {
    "collapsed": false,
    "pycharm": {
     "name": "#%%\n"
    }
   }
  },
  {
   "cell_type": "code",
   "execution_count": 55,
   "outputs": [
    {
     "data": {
      "text/plain": "array([[[43, 52, 57, 46],\n        [45, 38, 43, 49],\n        [51, 45, 45, 45]]])"
     },
     "execution_count": 55,
     "metadata": {},
     "output_type": "execute_result"
    }
   ],
   "source": [
    "sub3"
   ],
   "metadata": {
    "collapsed": false,
    "pycharm": {
     "name": "#%%\n"
    }
   }
  },
  {
   "cell_type": "code",
   "execution_count": 58,
   "outputs": [
    {
     "data": {
      "text/plain": "array([[18, 20, 14],\n       [12, 12, 13],\n       [18, 15, 22],\n       [43, 52, 57],\n       [46, 45, 38],\n       [43, 49, 51],\n       [45, 45, 45]])"
     },
     "execution_count": 58,
     "metadata": {},
     "output_type": "execute_result"
    }
   ],
   "source": [
    "np.vstack((sub1, sub2))"
   ],
   "metadata": {
    "collapsed": false,
    "pycharm": {
     "name": "#%%\n"
    }
   }
  },
  {
   "cell_type": "code",
   "execution_count": 59,
   "outputs": [
    {
     "data": {
      "text/plain": "array([[18, 20, 14, 43, 52, 57, 46],\n       [12, 12, 13, 45, 38, 43, 49],\n       [18, 15, 22, 51, 45, 45, 45]])"
     },
     "execution_count": 59,
     "metadata": {},
     "output_type": "execute_result"
    }
   ],
   "source": [
    "np.hstack((sub1, sub3[0]))"
   ],
   "metadata": {
    "collapsed": false,
    "pycharm": {
     "name": "#%%\n"
    }
   }
  }
 ],
 "metadata": {
  "kernelspec": {
   "display_name": "Python 3",
   "language": "python",
   "name": "python3"
  },
  "language_info": {
   "codemirror_mode": {
    "name": "ipython",
    "version": 2
   },
   "file_extension": ".py",
   "mimetype": "text/x-python",
   "name": "python",
   "nbconvert_exporter": "python",
   "pygments_lexer": "ipython2",
   "version": "2.7.6"
  }
 },
 "nbformat": 4,
 "nbformat_minor": 0
}