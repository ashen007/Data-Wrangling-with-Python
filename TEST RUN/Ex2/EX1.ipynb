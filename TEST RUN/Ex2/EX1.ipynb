{
 "cells": [
  {
   "cell_type": "markdown",
   "metadata": {
    "collapsed": true,
    "pycharm": {
     "name": "#%% md\n"
    }
   },
   "source": [
    "Now, we are going to have a string with a few URLs in it. Our job is to analyze the\n",
    "string so that we push the URLs in the stack one by one as we encounter them,\n",
    "and then finally use a for loop to pop them one by one. Let's take the first line from\n",
    "the Wikipedia article about data science:"
   ]
  },
  {
   "cell_type": "code",
   "execution_count": 1,
   "outputs": [],
   "source": [
    "wikipedia_datascience = \"\"\"Data science is an interdisciplinary field that\n",
    "uses scientific methods, processes, algorithms and systems to extract\n",
    "knowledge [https://en.wikipedia.org/wiki/Knowledge] and insights from data\n",
    "[https://en.wikipedia.org/wiki/Data] in various forms, both structured\n",
    "and unstructured,similar to data mining [https://en.wikipedia.org/wiki/\n",
    "Data_mining]\"\"\""
   ],
   "metadata": {
    "collapsed": false,
    "pycharm": {
     "name": "#%%\n"
    }
   }
  },
  {
   "cell_type": "code",
   "execution_count": 3,
   "outputs": [
    {
     "data": {
      "text/plain": "['https://en.wikipedia.org/wiki/Knowledge',\n 'https://en.wikipedia.org/wiki/Data',\n 'https://en.wikipedia.org/wiki/\\nData_mining']"
     },
     "execution_count": 3,
     "metadata": {},
     "output_type": "execute_result"
    }
   ],
   "source": [
    "import re\n",
    "\n",
    "pattern = '\\[([^]]+)\\]'\n",
    "URL = re.findall(pattern, wikipedia_datascience)\n",
    "URL\n"
   ],
   "metadata": {
    "collapsed": false,
    "pycharm": {
     "name": "#%%\n"
    }
   }
  },
  {
   "cell_type": "code",
   "execution_count": null,
   "outputs": [],
   "source": [],
   "metadata": {
    "collapsed": false,
    "pycharm": {
     "name": "#%%\n"
    }
   }
  }
 ],
 "metadata": {
  "kernelspec": {
   "display_name": "Python 3",
   "language": "python",
   "name": "python3"
  },
  "language_info": {
   "codemirror_mode": {
    "name": "ipython",
    "version": 2
   },
   "file_extension": ".py",
   "mimetype": "text/x-python",
   "name": "python",
   "nbconvert_exporter": "python",
   "pygments_lexer": "ipython2",
   "version": "2.7.6"
  }
 },
 "nbformat": 4,
 "nbformat_minor": 0
}