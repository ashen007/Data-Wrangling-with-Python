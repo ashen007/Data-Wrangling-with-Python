{
 "cells": [
  {
   "cell_type": "code",
   "execution_count": 51,
   "metadata": {
    "collapsed": true
   },
   "outputs": [],
   "source": [
    "dict_1 = {'key1': 1,\n",
    "          'key2': ['list_element1', 34],\n",
    "          'key3': 'value3',\n",
    "          'key4': {'subkey1': 'v1'},\n",
    "          'key5': 4.5}"
   ]
  },
  {
   "cell_type": "code",
   "execution_count": 52,
   "outputs": [
    {
     "data": {
      "text/plain": "1"
     },
     "execution_count": 52,
     "metadata": {},
     "output_type": "execute_result"
    }
   ],
   "source": [
    "# Access a particular key in a dictionary\n",
    "dict_1['key1']"
   ],
   "metadata": {
    "collapsed": false,
    "pycharm": {
     "name": "#%%\n"
    }
   }
  },
  {
   "cell_type": "code",
   "execution_count": 53,
   "outputs": [
    {
     "data": {
      "text/plain": "1111"
     },
     "execution_count": 53,
     "metadata": {},
     "output_type": "execute_result"
    }
   ],
   "source": [
    "# Assign a new value to the key\n",
    "dict_1['key1'] = 1111\n",
    "dict_1['key1']"
   ],
   "metadata": {
    "collapsed": false,
    "pycharm": {
     "name": "#%%\n"
    }
   }
  },
  {
   "cell_type": "code",
   "execution_count": 54,
   "outputs": [
    {
     "data": {
      "text/plain": "{0: 0,\n 1: 1,\n 2: 8,\n 3: 27,\n 4: 64,\n 5: 125,\n 6: 216,\n 7: 343,\n 8: 512,\n 9: 729,\n 10: 1000,\n 11: 1331,\n 12: 1728}"
     },
     "execution_count": 54,
     "metadata": {},
     "output_type": "execute_result"
    }
   ],
   "source": [
    "# Define a blank dictionary and then use the key notation to assign values to it\n",
    "dict_2 = dict()\n",
    "\n",
    "for i in range(13):\n",
    "    dict_2[i] = i*i*i\n",
    "\n",
    "dict_2"
   ],
   "metadata": {
    "collapsed": false,
    "pycharm": {
     "name": "#%%\n"
    }
   }
  },
  {
   "cell_type": "code",
   "execution_count": 55,
   "outputs": [
    {
     "name": "stdout",
     "output_type": "stream",
     "text": [
      "key1 - 1111\n",
      "key2 - ['list_element1', 34]\n",
      "key3 - value3\n",
      "key4 - {'subkey1': 'v1'}\n",
      "key5 - 4.5\n"
     ]
    }
   ],
   "source": [
    "# Use the looping variables k and v\n",
    "for k, v in dict_1.items():\n",
    "    print('{} - {}'.format(k, v))"
   ],
   "metadata": {
    "collapsed": false,
    "pycharm": {
     "name": "#%%\n"
    }
   }
  },
  {
   "cell_type": "code",
   "execution_count": 56,
   "outputs": [],
   "source": [
    "# First, generate a random list with duplicate values\n",
    "import random\n",
    "dataset = [random.randint(0, 30) for i in range(25)]"
   ],
   "metadata": {
    "collapsed": false,
    "pycharm": {
     "name": "#%%\n"
    }
   }
  },
  {
   "cell_type": "code",
   "execution_count": 57,
   "outputs": [],
   "source": [
    "# Create a unique valued list from list_1\n",
    "dataset = list(set(dataset))"
   ],
   "metadata": {
    "collapsed": false,
    "pycharm": {
     "name": "#%%\n"
    }
   }
  },
  {
   "cell_type": "code",
   "execution_count": 58,
   "outputs": [
    {
     "data": {
      "text/plain": "{'key1': 1111,\n 'key2': ['list_element1', 34],\n 'key3': 'value3',\n 'key4': {'subkey1': 'v1'}}"
     },
     "execution_count": 58,
     "metadata": {},
     "output_type": "execute_result"
    }
   ],
   "source": [
    "# use the del function and specify the element\n",
    "del dict_1['key5']\n",
    "dict_1"
   ],
   "metadata": {
    "collapsed": false,
    "pycharm": {
     "name": "#%%\n"
    }
   }
  },
  {
   "cell_type": "code",
   "execution_count": 59,
   "outputs": [
    {
     "data": {
      "text/plain": "{0: 0, 1: 1, 2: 4, 3: 9, 4: 16, 5: 25, 6: 36, 7: 49, 8: 64, 9: 81}"
     },
     "execution_count": 59,
     "metadata": {},
     "output_type": "execute_result"
    }
   ],
   "source": [
    "# Generate a dict that has 0 to 9 as the keys and the square of the key as the values\n",
    "dict_3 = {i: i*i for i in range(10)}\n",
    "dict_3"
   ],
   "metadata": {
    "collapsed": false,
    "pycharm": {
     "name": "#%%\n"
    }
   }
  },
  {
   "cell_type": "code",
   "execution_count": 60,
   "outputs": [
    {
     "data": {
      "text/plain": "{0: 0,\n 1: 1,\n 2: 2,\n 3: 3,\n 4: 6,\n 5: 7,\n 6: 10,\n 7: 11,\n 8: 13,\n 9: 14,\n 10: 19,\n 11: 20,\n 12: 21,\n 13: 22,\n 14: 24,\n 15: 25,\n 16: 28,\n 17: 29,\n 18: 30}"
     },
     "execution_count": 60,
     "metadata": {},
     "output_type": "execute_result"
    }
   ],
   "source": [
    "# Generate a dictionary using the dict function\n",
    "dataset = dict([tuple([i, dataset[i]]) for i in range(len(dataset))])\n",
    "dataset"
   ],
   "metadata": {
    "collapsed": false,
    "pycharm": {
     "name": "#%%\n"
    }
   }
  }
 ],
 "metadata": {
  "kernelspec": {
   "display_name": "Python 3",
   "language": "python",
   "name": "python3"
  },
  "language_info": {
   "codemirror_mode": {
    "name": "ipython",
    "version": 2
   },
   "file_extension": ".py",
   "mimetype": "text/x-python",
   "name": "python",
   "nbconvert_exporter": "python",
   "pygments_lexer": "ipython2",
   "version": "2.7.6"
  }
 },
 "nbformat": 4,
 "nbformat_minor": 0
}