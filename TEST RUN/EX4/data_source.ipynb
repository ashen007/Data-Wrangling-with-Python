{
 "cells": [
  {
   "cell_type": "code",
   "execution_count": 50,
   "metadata": {
    "collapsed": true
   },
   "outputs": [],
   "source": [
    "import pandas as pd\n",
    "from tabula.io import read_pdf"
   ]
  },
  {
   "cell_type": "code",
   "execution_count": 2,
   "outputs": [
    {
     "data": {
      "text/plain": "   Bedroom   Sq. foot    Locality   Price ($)\n0        2       1500        Good      300000\n1        3       1300        Fair      240000\n2        3       1900   Very good      450000\n3        3       1850         Bad      280000\n4        2       1640        Good      310000",
      "text/html": "<div>\n<style scoped>\n    .dataframe tbody tr th:only-of-type {\n        vertical-align: middle;\n    }\n\n    .dataframe tbody tr th {\n        vertical-align: top;\n    }\n\n    .dataframe thead th {\n        text-align: right;\n    }\n</style>\n<table border=\"1\" class=\"dataframe\">\n  <thead>\n    <tr style=\"text-align: right;\">\n      <th></th>\n      <th>Bedroom</th>\n      <th>Sq. foot</th>\n      <th>Locality</th>\n      <th>Price ($)</th>\n    </tr>\n  </thead>\n  <tbody>\n    <tr>\n      <th>0</th>\n      <td>2</td>\n      <td>1500</td>\n      <td>Good</td>\n      <td>300000</td>\n    </tr>\n    <tr>\n      <th>1</th>\n      <td>3</td>\n      <td>1300</td>\n      <td>Fair</td>\n      <td>240000</td>\n    </tr>\n    <tr>\n      <th>2</th>\n      <td>3</td>\n      <td>1900</td>\n      <td>Very good</td>\n      <td>450000</td>\n    </tr>\n    <tr>\n      <th>3</th>\n      <td>3</td>\n      <td>1850</td>\n      <td>Bad</td>\n      <td>280000</td>\n    </tr>\n    <tr>\n      <th>4</th>\n      <td>2</td>\n      <td>1640</td>\n      <td>Good</td>\n      <td>310000</td>\n    </tr>\n  </tbody>\n</table>\n</div>"
     },
     "execution_count": 2,
     "metadata": {},
     "output_type": "execute_result"
    }
   ],
   "source": [
    "dataset1 = pd.read_csv('../../Chapter05/Exercise60-68/CSV_EX_1.csv')\n",
    "dataset1"
   ],
   "metadata": {
    "collapsed": false,
    "pycharm": {
     "name": "#%%\n"
    }
   }
  },
  {
   "cell_type": "code",
   "execution_count": 3,
   "outputs": [
    {
     "data": {
      "text/plain": "Index(['Bedroom', ' Sq. foot', ' Locality', ' Price ($)'], dtype='object')"
     },
     "execution_count": 3,
     "metadata": {},
     "output_type": "execute_result"
    }
   ],
   "source": [
    "dataset1.columns"
   ],
   "metadata": {
    "collapsed": false,
    "pycharm": {
     "name": "#%%\n"
    }
   }
  },
  {
   "cell_type": "code",
   "execution_count": 4,
   "outputs": [
    {
     "data": {
      "text/plain": "           Bedroom    Locality   Price ($)\n Sq. foot                                 \n1500             2        Good      300000\n1300             3        Fair      240000\n1900             3   Very good      450000\n1850             3         Bad      280000\n1640             2        Good      310000",
      "text/html": "<div>\n<style scoped>\n    .dataframe tbody tr th:only-of-type {\n        vertical-align: middle;\n    }\n\n    .dataframe tbody tr th {\n        vertical-align: top;\n    }\n\n    .dataframe thead th {\n        text-align: right;\n    }\n</style>\n<table border=\"1\" class=\"dataframe\">\n  <thead>\n    <tr style=\"text-align: right;\">\n      <th></th>\n      <th>Bedroom</th>\n      <th>Locality</th>\n      <th>Price ($)</th>\n    </tr>\n    <tr>\n      <th>Sq. foot</th>\n      <th></th>\n      <th></th>\n      <th></th>\n    </tr>\n  </thead>\n  <tbody>\n    <tr>\n      <th>1500</th>\n      <td>2</td>\n      <td>Good</td>\n      <td>300000</td>\n    </tr>\n    <tr>\n      <th>1300</th>\n      <td>3</td>\n      <td>Fair</td>\n      <td>240000</td>\n    </tr>\n    <tr>\n      <th>1900</th>\n      <td>3</td>\n      <td>Very good</td>\n      <td>450000</td>\n    </tr>\n    <tr>\n      <th>1850</th>\n      <td>3</td>\n      <td>Bad</td>\n      <td>280000</td>\n    </tr>\n    <tr>\n      <th>1640</th>\n      <td>2</td>\n      <td>Good</td>\n      <td>310000</td>\n    </tr>\n  </tbody>\n</table>\n</div>"
     },
     "execution_count": 4,
     "metadata": {},
     "output_type": "execute_result"
    }
   ],
   "source": [
    "dataset1.set_index(' Sq. foot')"
   ],
   "metadata": {
    "collapsed": false,
    "pycharm": {
     "name": "#%%\n"
    }
   }
  },
  {
   "cell_type": "code",
   "execution_count": 5,
   "outputs": [
    {
     "data": {
      "text/plain": "   2   1500        Good   300000\n0  3   1300        Fair   240000\n1  3   1900   Very good   450000\n2  3   1850         Bad   280000\n3  2   1640        Good   310000",
      "text/html": "<div>\n<style scoped>\n    .dataframe tbody tr th:only-of-type {\n        vertical-align: middle;\n    }\n\n    .dataframe tbody tr th {\n        vertical-align: top;\n    }\n\n    .dataframe thead th {\n        text-align: right;\n    }\n</style>\n<table border=\"1\" class=\"dataframe\">\n  <thead>\n    <tr style=\"text-align: right;\">\n      <th></th>\n      <th>2</th>\n      <th>1500</th>\n      <th>Good</th>\n      <th>300000</th>\n    </tr>\n  </thead>\n  <tbody>\n    <tr>\n      <th>0</th>\n      <td>3</td>\n      <td>1300</td>\n      <td>Fair</td>\n      <td>240000</td>\n    </tr>\n    <tr>\n      <th>1</th>\n      <td>3</td>\n      <td>1900</td>\n      <td>Very good</td>\n      <td>450000</td>\n    </tr>\n    <tr>\n      <th>2</th>\n      <td>3</td>\n      <td>1850</td>\n      <td>Bad</td>\n      <td>280000</td>\n    </tr>\n    <tr>\n      <th>3</th>\n      <td>2</td>\n      <td>1640</td>\n      <td>Good</td>\n      <td>310000</td>\n    </tr>\n  </tbody>\n</table>\n</div>"
     },
     "execution_count": 5,
     "metadata": {},
     "output_type": "execute_result"
    }
   ],
   "source": [
    "dataset2 = pd.read_csv('../../Chapter05/Exercise60-68/CSV_EX_2.csv')\n",
    "dataset2"
   ],
   "metadata": {
    "collapsed": false,
    "pycharm": {
     "name": "#%%\n"
    }
   }
  },
  {
   "cell_type": "code",
   "execution_count": 6,
   "outputs": [
    {
     "data": {
      "text/plain": "   0     1           2       3\n0  2  1500        Good  300000\n1  3  1300        Fair  240000\n2  3  1900   Very good  450000\n3  3  1850         Bad  280000\n4  2  1640        Good  310000",
      "text/html": "<div>\n<style scoped>\n    .dataframe tbody tr th:only-of-type {\n        vertical-align: middle;\n    }\n\n    .dataframe tbody tr th {\n        vertical-align: top;\n    }\n\n    .dataframe thead th {\n        text-align: right;\n    }\n</style>\n<table border=\"1\" class=\"dataframe\">\n  <thead>\n    <tr style=\"text-align: right;\">\n      <th></th>\n      <th>0</th>\n      <th>1</th>\n      <th>2</th>\n      <th>3</th>\n    </tr>\n  </thead>\n  <tbody>\n    <tr>\n      <th>0</th>\n      <td>2</td>\n      <td>1500</td>\n      <td>Good</td>\n      <td>300000</td>\n    </tr>\n    <tr>\n      <th>1</th>\n      <td>3</td>\n      <td>1300</td>\n      <td>Fair</td>\n      <td>240000</td>\n    </tr>\n    <tr>\n      <th>2</th>\n      <td>3</td>\n      <td>1900</td>\n      <td>Very good</td>\n      <td>450000</td>\n    </tr>\n    <tr>\n      <th>3</th>\n      <td>3</td>\n      <td>1850</td>\n      <td>Bad</td>\n      <td>280000</td>\n    </tr>\n    <tr>\n      <th>4</th>\n      <td>2</td>\n      <td>1640</td>\n      <td>Good</td>\n      <td>310000</td>\n    </tr>\n  </tbody>\n</table>\n</div>"
     },
     "execution_count": 6,
     "metadata": {},
     "output_type": "execute_result"
    }
   ],
   "source": [
    "dataset2_1 = pd.read_csv('../../Chapter05/Exercise60-68/CSV_EX_2.csv', header=None)\n",
    "dataset2_1"
   ],
   "metadata": {
    "collapsed": false,
    "pycharm": {
     "name": "#%%\n"
    }
   }
  },
  {
   "cell_type": "code",
   "execution_count": 7,
   "outputs": [
    {
     "data": {
      "text/plain": "   Bedroom  Sq. foot    Locality  Price ($)\n0        2      1500        Good     300000\n1        3      1300        Fair     240000\n2        3      1900   Very good     450000\n3        3      1850         Bad     280000\n4        2      1640        Good     310000",
      "text/html": "<div>\n<style scoped>\n    .dataframe tbody tr th:only-of-type {\n        vertical-align: middle;\n    }\n\n    .dataframe tbody tr th {\n        vertical-align: top;\n    }\n\n    .dataframe thead th {\n        text-align: right;\n    }\n</style>\n<table border=\"1\" class=\"dataframe\">\n  <thead>\n    <tr style=\"text-align: right;\">\n      <th></th>\n      <th>Bedroom</th>\n      <th>Sq. foot</th>\n      <th>Locality</th>\n      <th>Price ($)</th>\n    </tr>\n  </thead>\n  <tbody>\n    <tr>\n      <th>0</th>\n      <td>2</td>\n      <td>1500</td>\n      <td>Good</td>\n      <td>300000</td>\n    </tr>\n    <tr>\n      <th>1</th>\n      <td>3</td>\n      <td>1300</td>\n      <td>Fair</td>\n      <td>240000</td>\n    </tr>\n    <tr>\n      <th>2</th>\n      <td>3</td>\n      <td>1900</td>\n      <td>Very good</td>\n      <td>450000</td>\n    </tr>\n    <tr>\n      <th>3</th>\n      <td>3</td>\n      <td>1850</td>\n      <td>Bad</td>\n      <td>280000</td>\n    </tr>\n    <tr>\n      <th>4</th>\n      <td>2</td>\n      <td>1640</td>\n      <td>Good</td>\n      <td>310000</td>\n    </tr>\n  </tbody>\n</table>\n</div>"
     },
     "execution_count": 7,
     "metadata": {},
     "output_type": "execute_result"
    }
   ],
   "source": [
    "header = ['Bedroom', 'Sq. foot', 'Locality', 'Price ($)']\n",
    "dataset2_2 = pd.read_csv('../../Chapter05/Exercise60-68/CSV_EX_2.csv', names=header)\n",
    "dataset2_2"
   ],
   "metadata": {
    "collapsed": false,
    "pycharm": {
     "name": "#%%\n"
    }
   }
  },
  {
   "cell_type": "code",
   "execution_count": 8,
   "outputs": [
    {
     "data": {
      "text/plain": "  Bedroom; Sq. foot; Locality; Price ($)\n0                  2; 1500; Good; 300000\n1                  3; 1300; Fair; 240000\n2             3; 1900; Very good; 450000\n3                   3; 1850; Bad; 280000\n4                  2; 1640; Good; 310000",
      "text/html": "<div>\n<style scoped>\n    .dataframe tbody tr th:only-of-type {\n        vertical-align: middle;\n    }\n\n    .dataframe tbody tr th {\n        vertical-align: top;\n    }\n\n    .dataframe thead th {\n        text-align: right;\n    }\n</style>\n<table border=\"1\" class=\"dataframe\">\n  <thead>\n    <tr style=\"text-align: right;\">\n      <th></th>\n      <th>Bedroom; Sq. foot; Locality; Price ($)</th>\n    </tr>\n  </thead>\n  <tbody>\n    <tr>\n      <th>0</th>\n      <td>2; 1500; Good; 300000</td>\n    </tr>\n    <tr>\n      <th>1</th>\n      <td>3; 1300; Fair; 240000</td>\n    </tr>\n    <tr>\n      <th>2</th>\n      <td>3; 1900; Very good; 450000</td>\n    </tr>\n    <tr>\n      <th>3</th>\n      <td>3; 1850; Bad; 280000</td>\n    </tr>\n    <tr>\n      <th>4</th>\n      <td>2; 1640; Good; 310000</td>\n    </tr>\n  </tbody>\n</table>\n</div>"
     },
     "execution_count": 8,
     "metadata": {},
     "output_type": "execute_result"
    }
   ],
   "source": [
    "dataset3 = pd.read_csv('../../Chapter05/Exercise60-68/CSV_EX_3.csv')\n",
    "dataset3"
   ],
   "metadata": {
    "collapsed": false,
    "pycharm": {
     "name": "#%%\n"
    }
   }
  },
  {
   "cell_type": "code",
   "execution_count": 9,
   "outputs": [
    {
     "data": {
      "text/plain": "   Bedroom   Sq. foot    Locality   Price ($)\n0        2       1500        Good      300000\n1        3       1300        Fair      240000\n2        3       1900   Very good      450000\n3        3       1850         Bad      280000\n4        2       1640        Good      310000",
      "text/html": "<div>\n<style scoped>\n    .dataframe tbody tr th:only-of-type {\n        vertical-align: middle;\n    }\n\n    .dataframe tbody tr th {\n        vertical-align: top;\n    }\n\n    .dataframe thead th {\n        text-align: right;\n    }\n</style>\n<table border=\"1\" class=\"dataframe\">\n  <thead>\n    <tr style=\"text-align: right;\">\n      <th></th>\n      <th>Bedroom</th>\n      <th>Sq. foot</th>\n      <th>Locality</th>\n      <th>Price ($)</th>\n    </tr>\n  </thead>\n  <tbody>\n    <tr>\n      <th>0</th>\n      <td>2</td>\n      <td>1500</td>\n      <td>Good</td>\n      <td>300000</td>\n    </tr>\n    <tr>\n      <th>1</th>\n      <td>3</td>\n      <td>1300</td>\n      <td>Fair</td>\n      <td>240000</td>\n    </tr>\n    <tr>\n      <th>2</th>\n      <td>3</td>\n      <td>1900</td>\n      <td>Very good</td>\n      <td>450000</td>\n    </tr>\n    <tr>\n      <th>3</th>\n      <td>3</td>\n      <td>1850</td>\n      <td>Bad</td>\n      <td>280000</td>\n    </tr>\n    <tr>\n      <th>4</th>\n      <td>2</td>\n      <td>1640</td>\n      <td>Good</td>\n      <td>310000</td>\n    </tr>\n  </tbody>\n</table>\n</div>"
     },
     "execution_count": 9,
     "metadata": {},
     "output_type": "execute_result"
    }
   ],
   "source": [
    "dataset3 = pd.read_csv('../../Chapter05/Exercise60-68/CSV_EX_3.csv', sep=';')\n",
    "dataset3"
   ],
   "metadata": {
    "collapsed": false,
    "pycharm": {
     "name": "#%%\n"
    }
   }
  },
  {
   "cell_type": "code",
   "execution_count": 10,
   "outputs": [
    {
     "data": {
      "text/plain": "   col1  col2        col3    col4\n0     2  1500        Good  300000\n1     3  1300        Fair  240000\n2     3  1900   Very good  450000\n3     3  1850         Bad  280000\n4     2  1640        Good  310000",
      "text/html": "<div>\n<style scoped>\n    .dataframe tbody tr th:only-of-type {\n        vertical-align: middle;\n    }\n\n    .dataframe tbody tr th {\n        vertical-align: top;\n    }\n\n    .dataframe thead th {\n        text-align: right;\n    }\n</style>\n<table border=\"1\" class=\"dataframe\">\n  <thead>\n    <tr style=\"text-align: right;\">\n      <th></th>\n      <th>col1</th>\n      <th>col2</th>\n      <th>col3</th>\n      <th>col4</th>\n    </tr>\n  </thead>\n  <tbody>\n    <tr>\n      <th>0</th>\n      <td>2</td>\n      <td>1500</td>\n      <td>Good</td>\n      <td>300000</td>\n    </tr>\n    <tr>\n      <th>1</th>\n      <td>3</td>\n      <td>1300</td>\n      <td>Fair</td>\n      <td>240000</td>\n    </tr>\n    <tr>\n      <th>2</th>\n      <td>3</td>\n      <td>1900</td>\n      <td>Very good</td>\n      <td>450000</td>\n    </tr>\n    <tr>\n      <th>3</th>\n      <td>3</td>\n      <td>1850</td>\n      <td>Bad</td>\n      <td>280000</td>\n    </tr>\n    <tr>\n      <th>4</th>\n      <td>2</td>\n      <td>1640</td>\n      <td>Good</td>\n      <td>310000</td>\n    </tr>\n  </tbody>\n</table>\n</div>"
     },
     "execution_count": 10,
     "metadata": {},
     "output_type": "execute_result"
    }
   ],
   "source": [
    "dataset4 = pd.read_csv('../../Chapter05/Exercise60-68/CSV_EX_1.csv',\n",
    "                       header=0, names=['col1', 'col2', 'col3', 'col4'])\n",
    "dataset4"
   ],
   "metadata": {
    "collapsed": false,
    "pycharm": {
     "name": "#%%\n"
    }
   }
  },
  {
   "cell_type": "code",
   "execution_count": 11,
   "outputs": [
    {
     "data": {
      "text/plain": "  Filetype: CSV              Unnamed: 1  Unnamed: 2  Unnamed: 3\n0           NaN  Info about some houses         NaN         NaN\n1       Bedroom                Sq. foot    Locality   Price ($)\n2             2                    1500        Good      300000\n3             3                    1300        Fair      240000\n4             3                    1900   Very good      450000\n5             3                    1850         Bad      280000\n6             2                    1640        Good      310000",
      "text/html": "<div>\n<style scoped>\n    .dataframe tbody tr th:only-of-type {\n        vertical-align: middle;\n    }\n\n    .dataframe tbody tr th {\n        vertical-align: top;\n    }\n\n    .dataframe thead th {\n        text-align: right;\n    }\n</style>\n<table border=\"1\" class=\"dataframe\">\n  <thead>\n    <tr style=\"text-align: right;\">\n      <th></th>\n      <th>Filetype: CSV</th>\n      <th>Unnamed: 1</th>\n      <th>Unnamed: 2</th>\n      <th>Unnamed: 3</th>\n    </tr>\n  </thead>\n  <tbody>\n    <tr>\n      <th>0</th>\n      <td>NaN</td>\n      <td>Info about some houses</td>\n      <td>NaN</td>\n      <td>NaN</td>\n    </tr>\n    <tr>\n      <th>1</th>\n      <td>Bedroom</td>\n      <td>Sq. foot</td>\n      <td>Locality</td>\n      <td>Price ($)</td>\n    </tr>\n    <tr>\n      <th>2</th>\n      <td>2</td>\n      <td>1500</td>\n      <td>Good</td>\n      <td>300000</td>\n    </tr>\n    <tr>\n      <th>3</th>\n      <td>3</td>\n      <td>1300</td>\n      <td>Fair</td>\n      <td>240000</td>\n    </tr>\n    <tr>\n      <th>4</th>\n      <td>3</td>\n      <td>1900</td>\n      <td>Very good</td>\n      <td>450000</td>\n    </tr>\n    <tr>\n      <th>5</th>\n      <td>3</td>\n      <td>1850</td>\n      <td>Bad</td>\n      <td>280000</td>\n    </tr>\n    <tr>\n      <th>6</th>\n      <td>2</td>\n      <td>1640</td>\n      <td>Good</td>\n      <td>310000</td>\n    </tr>\n  </tbody>\n</table>\n</div>"
     },
     "execution_count": 11,
     "metadata": {},
     "output_type": "execute_result"
    }
   ],
   "source": [
    "dataset5 = pd.read_csv('../../Chapter05/Exercise60-68/CSV_EX_skiprows.csv')\n",
    "dataset5"
   ],
   "metadata": {
    "collapsed": false,
    "pycharm": {
     "name": "#%%\n"
    }
   }
  },
  {
   "cell_type": "code",
   "execution_count": 12,
   "outputs": [
    {
     "data": {
      "text/plain": "   Bedroom   Sq. foot    Locality   Price ($)\n0        2       1500        Good      300000\n1        3       1300        Fair      240000\n2        3       1900   Very good      450000\n3        3       1850         Bad      280000\n4        2       1640        Good      310000",
      "text/html": "<div>\n<style scoped>\n    .dataframe tbody tr th:only-of-type {\n        vertical-align: middle;\n    }\n\n    .dataframe tbody tr th {\n        vertical-align: top;\n    }\n\n    .dataframe thead th {\n        text-align: right;\n    }\n</style>\n<table border=\"1\" class=\"dataframe\">\n  <thead>\n    <tr style=\"text-align: right;\">\n      <th></th>\n      <th>Bedroom</th>\n      <th>Sq. foot</th>\n      <th>Locality</th>\n      <th>Price ($)</th>\n    </tr>\n  </thead>\n  <tbody>\n    <tr>\n      <th>0</th>\n      <td>2</td>\n      <td>1500</td>\n      <td>Good</td>\n      <td>300000</td>\n    </tr>\n    <tr>\n      <th>1</th>\n      <td>3</td>\n      <td>1300</td>\n      <td>Fair</td>\n      <td>240000</td>\n    </tr>\n    <tr>\n      <th>2</th>\n      <td>3</td>\n      <td>1900</td>\n      <td>Very good</td>\n      <td>450000</td>\n    </tr>\n    <tr>\n      <th>3</th>\n      <td>3</td>\n      <td>1850</td>\n      <td>Bad</td>\n      <td>280000</td>\n    </tr>\n    <tr>\n      <th>4</th>\n      <td>2</td>\n      <td>1640</td>\n      <td>Good</td>\n      <td>310000</td>\n    </tr>\n  </tbody>\n</table>\n</div>"
     },
     "execution_count": 12,
     "metadata": {},
     "output_type": "execute_result"
    }
   ],
   "source": [
    "dataset5_1 = pd.read_csv('../../Chapter05/Exercise60-68/CSV_EX_skiprows.csv', skiprows=2)\n",
    "dataset5_1"
   ],
   "metadata": {
    "collapsed": false,
    "pycharm": {
     "name": "#%%\n"
    }
   }
  },
  {
   "cell_type": "code",
   "execution_count": 13,
   "outputs": [
    {
     "data": {
      "text/plain": "  Filetype: CSV                Unnamed: 1  Unnamed: 2  Unnamed: 3\n0           NaN    Info about some houses         NaN         NaN\n1       Bedroom                  Sq. foot    Locality   Price ($)\n2             2                      1500        Good      300000\n3             3                      1300        Fair      240000\n4             3                      1900   Very good      450000\n5             3                      1850         Bad      280000\n6             2                      1640        Good      310000\n7           NaN   This is the end of file         NaN         NaN",
      "text/html": "<div>\n<style scoped>\n    .dataframe tbody tr th:only-of-type {\n        vertical-align: middle;\n    }\n\n    .dataframe tbody tr th {\n        vertical-align: top;\n    }\n\n    .dataframe thead th {\n        text-align: right;\n    }\n</style>\n<table border=\"1\" class=\"dataframe\">\n  <thead>\n    <tr style=\"text-align: right;\">\n      <th></th>\n      <th>Filetype: CSV</th>\n      <th>Unnamed: 1</th>\n      <th>Unnamed: 2</th>\n      <th>Unnamed: 3</th>\n    </tr>\n  </thead>\n  <tbody>\n    <tr>\n      <th>0</th>\n      <td>NaN</td>\n      <td>Info about some houses</td>\n      <td>NaN</td>\n      <td>NaN</td>\n    </tr>\n    <tr>\n      <th>1</th>\n      <td>Bedroom</td>\n      <td>Sq. foot</td>\n      <td>Locality</td>\n      <td>Price ($)</td>\n    </tr>\n    <tr>\n      <th>2</th>\n      <td>2</td>\n      <td>1500</td>\n      <td>Good</td>\n      <td>300000</td>\n    </tr>\n    <tr>\n      <th>3</th>\n      <td>3</td>\n      <td>1300</td>\n      <td>Fair</td>\n      <td>240000</td>\n    </tr>\n    <tr>\n      <th>4</th>\n      <td>3</td>\n      <td>1900</td>\n      <td>Very good</td>\n      <td>450000</td>\n    </tr>\n    <tr>\n      <th>5</th>\n      <td>3</td>\n      <td>1850</td>\n      <td>Bad</td>\n      <td>280000</td>\n    </tr>\n    <tr>\n      <th>6</th>\n      <td>2</td>\n      <td>1640</td>\n      <td>Good</td>\n      <td>310000</td>\n    </tr>\n    <tr>\n      <th>7</th>\n      <td>NaN</td>\n      <td>This is the end of file</td>\n      <td>NaN</td>\n      <td>NaN</td>\n    </tr>\n  </tbody>\n</table>\n</div>"
     },
     "execution_count": 13,
     "metadata": {},
     "output_type": "execute_result"
    }
   ],
   "source": [
    "dataset5_2 = pd.read_csv('../../Chapter05/Exercise60-68/CSV_EX_skipfooter.csv')\n",
    "dataset5_2"
   ],
   "metadata": {
    "collapsed": false,
    "pycharm": {
     "name": "#%%\n"
    }
   }
  },
  {
   "cell_type": "code",
   "execution_count": 14,
   "outputs": [
    {
     "data": {
      "text/plain": "   Bedroom   Sq. foot    Locality   Price ($)\n0        2       1500        Good      300000\n1        3       1300        Fair      240000\n2        3       1900   Very good      450000\n3        3       1850         Bad      280000\n4        2       1640        Good      310000",
      "text/html": "<div>\n<style scoped>\n    .dataframe tbody tr th:only-of-type {\n        vertical-align: middle;\n    }\n\n    .dataframe tbody tr th {\n        vertical-align: top;\n    }\n\n    .dataframe thead th {\n        text-align: right;\n    }\n</style>\n<table border=\"1\" class=\"dataframe\">\n  <thead>\n    <tr style=\"text-align: right;\">\n      <th></th>\n      <th>Bedroom</th>\n      <th>Sq. foot</th>\n      <th>Locality</th>\n      <th>Price ($)</th>\n    </tr>\n  </thead>\n  <tbody>\n    <tr>\n      <th>0</th>\n      <td>2</td>\n      <td>1500</td>\n      <td>Good</td>\n      <td>300000</td>\n    </tr>\n    <tr>\n      <th>1</th>\n      <td>3</td>\n      <td>1300</td>\n      <td>Fair</td>\n      <td>240000</td>\n    </tr>\n    <tr>\n      <th>2</th>\n      <td>3</td>\n      <td>1900</td>\n      <td>Very good</td>\n      <td>450000</td>\n    </tr>\n    <tr>\n      <th>3</th>\n      <td>3</td>\n      <td>1850</td>\n      <td>Bad</td>\n      <td>280000</td>\n    </tr>\n    <tr>\n      <th>4</th>\n      <td>2</td>\n      <td>1640</td>\n      <td>Good</td>\n      <td>310000</td>\n    </tr>\n  </tbody>\n</table>\n</div>"
     },
     "execution_count": 14,
     "metadata": {},
     "output_type": "execute_result"
    }
   ],
   "source": [
    "dataset5_2 = pd.read_csv('../../Chapter05/Exercise60-68/CSV_EX_skipfooter.csv',\n",
    "                         skiprows=2, skipfooter=1, engine='python')\n",
    "dataset5_2"
   ],
   "metadata": {
    "collapsed": false,
    "pycharm": {
     "name": "#%%\n"
    }
   }
  },
  {
   "cell_type": "code",
   "execution_count": 15,
   "outputs": [
    {
     "data": {
      "text/plain": "      CRIM  ZN  INDUS  CHAS    NOX     RM   AGE     DIS  RAD  TAX  PTRATIO  \\\n0  0.00632  18   2.31     0  0.538  6.575  65.2  4.0900    1  296     15.3   \n1  0.02731   0   7.07     0  0.469  6.421  78.9  4.9671    2  242     17.8   \n2  0.02729   0   7.07     0  0.469  7.185  61.1  4.9671    2  242     17.8   \n3  0.03237   0   2.18     0  0.458  6.998  45.8  6.0622    3  222     18.7   \n4  0.06905   0   2.18     0  0.458  7.147  54.2  6.0622    3  222     18.7   \n\n        B  LSTAT  PRICE  \n0  396.90   4.98   24.0  \n1  396.90   9.14   21.6  \n2  392.83   4.03   34.7  \n3  394.63   2.94   33.4  \n4  396.90   5.33   36.2  ",
      "text/html": "<div>\n<style scoped>\n    .dataframe tbody tr th:only-of-type {\n        vertical-align: middle;\n    }\n\n    .dataframe tbody tr th {\n        vertical-align: top;\n    }\n\n    .dataframe thead th {\n        text-align: right;\n    }\n</style>\n<table border=\"1\" class=\"dataframe\">\n  <thead>\n    <tr style=\"text-align: right;\">\n      <th></th>\n      <th>CRIM</th>\n      <th>ZN</th>\n      <th>INDUS</th>\n      <th>CHAS</th>\n      <th>NOX</th>\n      <th>RM</th>\n      <th>AGE</th>\n      <th>DIS</th>\n      <th>RAD</th>\n      <th>TAX</th>\n      <th>PTRATIO</th>\n      <th>B</th>\n      <th>LSTAT</th>\n      <th>PRICE</th>\n    </tr>\n  </thead>\n  <tbody>\n    <tr>\n      <th>0</th>\n      <td>0.00632</td>\n      <td>18</td>\n      <td>2.31</td>\n      <td>0</td>\n      <td>0.538</td>\n      <td>6.575</td>\n      <td>65.2</td>\n      <td>4.0900</td>\n      <td>1</td>\n      <td>296</td>\n      <td>15.3</td>\n      <td>396.90</td>\n      <td>4.98</td>\n      <td>24.0</td>\n    </tr>\n    <tr>\n      <th>1</th>\n      <td>0.02731</td>\n      <td>0</td>\n      <td>7.07</td>\n      <td>0</td>\n      <td>0.469</td>\n      <td>6.421</td>\n      <td>78.9</td>\n      <td>4.9671</td>\n      <td>2</td>\n      <td>242</td>\n      <td>17.8</td>\n      <td>396.90</td>\n      <td>9.14</td>\n      <td>21.6</td>\n    </tr>\n    <tr>\n      <th>2</th>\n      <td>0.02729</td>\n      <td>0</td>\n      <td>7.07</td>\n      <td>0</td>\n      <td>0.469</td>\n      <td>7.185</td>\n      <td>61.1</td>\n      <td>4.9671</td>\n      <td>2</td>\n      <td>242</td>\n      <td>17.8</td>\n      <td>392.83</td>\n      <td>4.03</td>\n      <td>34.7</td>\n    </tr>\n    <tr>\n      <th>3</th>\n      <td>0.03237</td>\n      <td>0</td>\n      <td>2.18</td>\n      <td>0</td>\n      <td>0.458</td>\n      <td>6.998</td>\n      <td>45.8</td>\n      <td>6.0622</td>\n      <td>3</td>\n      <td>222</td>\n      <td>18.7</td>\n      <td>394.63</td>\n      <td>2.94</td>\n      <td>33.4</td>\n    </tr>\n    <tr>\n      <th>4</th>\n      <td>0.06905</td>\n      <td>0</td>\n      <td>2.18</td>\n      <td>0</td>\n      <td>0.458</td>\n      <td>7.147</td>\n      <td>54.2</td>\n      <td>6.0622</td>\n      <td>3</td>\n      <td>222</td>\n      <td>18.7</td>\n      <td>396.90</td>\n      <td>5.33</td>\n      <td>36.2</td>\n    </tr>\n  </tbody>\n</table>\n</div>"
     },
     "execution_count": 15,
     "metadata": {},
     "output_type": "execute_result"
    }
   ],
   "source": [
    "dataset_chunks = []\n",
    "rows_in_chunk = 10\n",
    "num_of_chunk = 5\n",
    "columns = pd.read_csv('../../Chapter05/Exercise60-68/Boston_housing.csv', nrows=5).columns\n",
    "\n",
    "for i in range(0, num_of_chunk*rows_in_chunk, rows_in_chunk):\n",
    "    data = pd.read_csv('../../Chapter05/Exercise60-68/Boston_housing.csv',\n",
    "                       header=0, skiprows=i, nrows=num_of_chunk, names=columns)\n",
    "    dataset_chunks.append(data)\n",
    "\n",
    "dataset_chunks[0]"
   ],
   "metadata": {
    "collapsed": false,
    "pycharm": {
     "name": "#%%\n"
    }
   }
  },
  {
   "cell_type": "code",
   "execution_count": 16,
   "outputs": [
    {
     "data": {
      "text/plain": "   Bedroom   Sq. foot    Locality   Price ($)\n0        2       1500        Good      300000\n1        3       1300        Fair      240000\n2        3       1900   Very good      450000\n3        3       1850         Bad      280000\n4        2       1640        Good      310000",
      "text/html": "<div>\n<style scoped>\n    .dataframe tbody tr th:only-of-type {\n        vertical-align: middle;\n    }\n\n    .dataframe tbody tr th {\n        vertical-align: top;\n    }\n\n    .dataframe thead th {\n        text-align: right;\n    }\n</style>\n<table border=\"1\" class=\"dataframe\">\n  <thead>\n    <tr style=\"text-align: right;\">\n      <th></th>\n      <th>Bedroom</th>\n      <th>Sq. foot</th>\n      <th>Locality</th>\n      <th>Price ($)</th>\n    </tr>\n  </thead>\n  <tbody>\n    <tr>\n      <th>0</th>\n      <td>2</td>\n      <td>1500</td>\n      <td>Good</td>\n      <td>300000</td>\n    </tr>\n    <tr>\n      <th>1</th>\n      <td>3</td>\n      <td>1300</td>\n      <td>Fair</td>\n      <td>240000</td>\n    </tr>\n    <tr>\n      <th>2</th>\n      <td>3</td>\n      <td>1900</td>\n      <td>Very good</td>\n      <td>450000</td>\n    </tr>\n    <tr>\n      <th>3</th>\n      <td>3</td>\n      <td>1850</td>\n      <td>Bad</td>\n      <td>280000</td>\n    </tr>\n    <tr>\n      <th>4</th>\n      <td>2</td>\n      <td>1640</td>\n      <td>Good</td>\n      <td>310000</td>\n    </tr>\n  </tbody>\n</table>\n</div>"
     },
     "execution_count": 16,
     "metadata": {},
     "output_type": "execute_result"
    }
   ],
   "source": [
    "dataset6 = pd.read_csv('../../Chapter05/Exercise60-68/CSV_EX_1.zip')\n",
    "dataset6"
   ],
   "metadata": {
    "collapsed": false,
    "pycharm": {
     "name": "#%%\n"
    }
   }
  },
  {
   "cell_type": "code",
   "execution_count": 18,
   "outputs": [],
   "source": [
    "dataset7_1 = pd.read_excel('../../Chapter05/Exercise60-68/Housing_data.xlsx',\n",
    "                           sheet_name='Data_Tab_1')\n",
    "dataset7_2 = pd.read_excel('../../Chapter05/Exercise60-68/Housing_data.xlsx',\n",
    "                           sheet_name='Data_Tab_2')\n",
    "dataset7_3 = pd.read_excel('../../Chapter05/Exercise60-68/Housing_data.xlsx',\n",
    "                           sheet_name='Data_Tab_3')"
   ],
   "metadata": {
    "collapsed": false,
    "pycharm": {
     "name": "#%%\n"
    }
   }
  },
  {
   "cell_type": "code",
   "execution_count": 19,
   "outputs": [
    {
     "data": {
      "text/plain": "      CRIM    ZN  INDUS  CHAS    NOX     RM    AGE     DIS  RAD  TAX  PTRATIO  \\\n0  0.00632  18.0   2.31     0  0.538  6.575   65.2  4.0900    1  296     15.3   \n1  0.02731   0.0   7.07     0  0.469  6.421   78.9  4.9671    2  242     17.8   \n2  0.02729   0.0   7.07     0  0.469  7.185   61.1  4.9671    2  242     17.8   \n3  0.03237   0.0   2.18     0  0.458  6.998   45.8  6.0622    3  222     18.7   \n4  0.06905   0.0   2.18     0  0.458  7.147   54.2  6.0622    3  222     18.7   \n5  0.02985   0.0   2.18     0  0.458  6.430   58.7  6.0622    3  222     18.7   \n6  0.08829  12.5   7.87     0  0.524  6.012   66.6  5.5605    5  311     15.2   \n7  0.14455  12.5   7.87     0  0.524  6.172   96.1  5.9505    5  311     15.2   \n8  0.21124  12.5   7.87     0  0.524  5.631  100.0  6.0821    5  311     15.2   \n\n        B  LSTAT  PRICE  \n0  396.90   4.98   24.0  \n1  396.90   9.14   21.6  \n2  392.83   4.03   34.7  \n3  394.63   2.94   33.4  \n4  396.90   5.33   36.2  \n5  394.12   5.21   28.7  \n6  395.60  12.43   22.9  \n7  396.90  19.15   27.1  \n8  386.63  29.93   16.5  ",
      "text/html": "<div>\n<style scoped>\n    .dataframe tbody tr th:only-of-type {\n        vertical-align: middle;\n    }\n\n    .dataframe tbody tr th {\n        vertical-align: top;\n    }\n\n    .dataframe thead th {\n        text-align: right;\n    }\n</style>\n<table border=\"1\" class=\"dataframe\">\n  <thead>\n    <tr style=\"text-align: right;\">\n      <th></th>\n      <th>CRIM</th>\n      <th>ZN</th>\n      <th>INDUS</th>\n      <th>CHAS</th>\n      <th>NOX</th>\n      <th>RM</th>\n      <th>AGE</th>\n      <th>DIS</th>\n      <th>RAD</th>\n      <th>TAX</th>\n      <th>PTRATIO</th>\n      <th>B</th>\n      <th>LSTAT</th>\n      <th>PRICE</th>\n    </tr>\n  </thead>\n  <tbody>\n    <tr>\n      <th>0</th>\n      <td>0.00632</td>\n      <td>18.0</td>\n      <td>2.31</td>\n      <td>0</td>\n      <td>0.538</td>\n      <td>6.575</td>\n      <td>65.2</td>\n      <td>4.0900</td>\n      <td>1</td>\n      <td>296</td>\n      <td>15.3</td>\n      <td>396.90</td>\n      <td>4.98</td>\n      <td>24.0</td>\n    </tr>\n    <tr>\n      <th>1</th>\n      <td>0.02731</td>\n      <td>0.0</td>\n      <td>7.07</td>\n      <td>0</td>\n      <td>0.469</td>\n      <td>6.421</td>\n      <td>78.9</td>\n      <td>4.9671</td>\n      <td>2</td>\n      <td>242</td>\n      <td>17.8</td>\n      <td>396.90</td>\n      <td>9.14</td>\n      <td>21.6</td>\n    </tr>\n    <tr>\n      <th>2</th>\n      <td>0.02729</td>\n      <td>0.0</td>\n      <td>7.07</td>\n      <td>0</td>\n      <td>0.469</td>\n      <td>7.185</td>\n      <td>61.1</td>\n      <td>4.9671</td>\n      <td>2</td>\n      <td>242</td>\n      <td>17.8</td>\n      <td>392.83</td>\n      <td>4.03</td>\n      <td>34.7</td>\n    </tr>\n    <tr>\n      <th>3</th>\n      <td>0.03237</td>\n      <td>0.0</td>\n      <td>2.18</td>\n      <td>0</td>\n      <td>0.458</td>\n      <td>6.998</td>\n      <td>45.8</td>\n      <td>6.0622</td>\n      <td>3</td>\n      <td>222</td>\n      <td>18.7</td>\n      <td>394.63</td>\n      <td>2.94</td>\n      <td>33.4</td>\n    </tr>\n    <tr>\n      <th>4</th>\n      <td>0.06905</td>\n      <td>0.0</td>\n      <td>2.18</td>\n      <td>0</td>\n      <td>0.458</td>\n      <td>7.147</td>\n      <td>54.2</td>\n      <td>6.0622</td>\n      <td>3</td>\n      <td>222</td>\n      <td>18.7</td>\n      <td>396.90</td>\n      <td>5.33</td>\n      <td>36.2</td>\n    </tr>\n    <tr>\n      <th>5</th>\n      <td>0.02985</td>\n      <td>0.0</td>\n      <td>2.18</td>\n      <td>0</td>\n      <td>0.458</td>\n      <td>6.430</td>\n      <td>58.7</td>\n      <td>6.0622</td>\n      <td>3</td>\n      <td>222</td>\n      <td>18.7</td>\n      <td>394.12</td>\n      <td>5.21</td>\n      <td>28.7</td>\n    </tr>\n    <tr>\n      <th>6</th>\n      <td>0.08829</td>\n      <td>12.5</td>\n      <td>7.87</td>\n      <td>0</td>\n      <td>0.524</td>\n      <td>6.012</td>\n      <td>66.6</td>\n      <td>5.5605</td>\n      <td>5</td>\n      <td>311</td>\n      <td>15.2</td>\n      <td>395.60</td>\n      <td>12.43</td>\n      <td>22.9</td>\n    </tr>\n    <tr>\n      <th>7</th>\n      <td>0.14455</td>\n      <td>12.5</td>\n      <td>7.87</td>\n      <td>0</td>\n      <td>0.524</td>\n      <td>6.172</td>\n      <td>96.1</td>\n      <td>5.9505</td>\n      <td>5</td>\n      <td>311</td>\n      <td>15.2</td>\n      <td>396.90</td>\n      <td>19.15</td>\n      <td>27.1</td>\n    </tr>\n    <tr>\n      <th>8</th>\n      <td>0.21124</td>\n      <td>12.5</td>\n      <td>7.87</td>\n      <td>0</td>\n      <td>0.524</td>\n      <td>5.631</td>\n      <td>100.0</td>\n      <td>6.0821</td>\n      <td>5</td>\n      <td>311</td>\n      <td>15.2</td>\n      <td>386.63</td>\n      <td>29.93</td>\n      <td>16.5</td>\n    </tr>\n  </tbody>\n</table>\n</div>"
     },
     "execution_count": 19,
     "metadata": {},
     "output_type": "execute_result"
    }
   ],
   "source": [
    "dataset7_1"
   ],
   "metadata": {
    "collapsed": false,
    "pycharm": {
     "name": "#%%\n"
    }
   }
  },
  {
   "cell_type": "code",
   "execution_count": 20,
   "outputs": [
    {
     "data": {
      "text/plain": "      CRIM    ZN  INDUS  CHAS    NOX     RM   AGE     DIS  RAD  TAX  PTRATIO  \\\n0  0.17004  12.5   7.87     0  0.524  6.004  85.9  6.5921    5  311     15.2   \n1  0.22489  12.5   7.87     0  0.524  6.377  94.3  6.3467    5  311     15.2   \n2  0.11747  12.5   7.87     0  0.524  6.009  82.9  6.2267    5  311     15.2   \n3  0.09378  12.5   7.87     0  0.524  5.889  39.0  5.4509    5  311     15.2   \n\n        B  LSTAT  PRICE  \n0  386.71  17.10   18.9  \n1  392.52  20.45   15.0  \n2  396.90  13.27   18.9  \n3  390.50  15.71   21.7  ",
      "text/html": "<div>\n<style scoped>\n    .dataframe tbody tr th:only-of-type {\n        vertical-align: middle;\n    }\n\n    .dataframe tbody tr th {\n        vertical-align: top;\n    }\n\n    .dataframe thead th {\n        text-align: right;\n    }\n</style>\n<table border=\"1\" class=\"dataframe\">\n  <thead>\n    <tr style=\"text-align: right;\">\n      <th></th>\n      <th>CRIM</th>\n      <th>ZN</th>\n      <th>INDUS</th>\n      <th>CHAS</th>\n      <th>NOX</th>\n      <th>RM</th>\n      <th>AGE</th>\n      <th>DIS</th>\n      <th>RAD</th>\n      <th>TAX</th>\n      <th>PTRATIO</th>\n      <th>B</th>\n      <th>LSTAT</th>\n      <th>PRICE</th>\n    </tr>\n  </thead>\n  <tbody>\n    <tr>\n      <th>0</th>\n      <td>0.17004</td>\n      <td>12.5</td>\n      <td>7.87</td>\n      <td>0</td>\n      <td>0.524</td>\n      <td>6.004</td>\n      <td>85.9</td>\n      <td>6.5921</td>\n      <td>5</td>\n      <td>311</td>\n      <td>15.2</td>\n      <td>386.71</td>\n      <td>17.10</td>\n      <td>18.9</td>\n    </tr>\n    <tr>\n      <th>1</th>\n      <td>0.22489</td>\n      <td>12.5</td>\n      <td>7.87</td>\n      <td>0</td>\n      <td>0.524</td>\n      <td>6.377</td>\n      <td>94.3</td>\n      <td>6.3467</td>\n      <td>5</td>\n      <td>311</td>\n      <td>15.2</td>\n      <td>392.52</td>\n      <td>20.45</td>\n      <td>15.0</td>\n    </tr>\n    <tr>\n      <th>2</th>\n      <td>0.11747</td>\n      <td>12.5</td>\n      <td>7.87</td>\n      <td>0</td>\n      <td>0.524</td>\n      <td>6.009</td>\n      <td>82.9</td>\n      <td>6.2267</td>\n      <td>5</td>\n      <td>311</td>\n      <td>15.2</td>\n      <td>396.90</td>\n      <td>13.27</td>\n      <td>18.9</td>\n    </tr>\n    <tr>\n      <th>3</th>\n      <td>0.09378</td>\n      <td>12.5</td>\n      <td>7.87</td>\n      <td>0</td>\n      <td>0.524</td>\n      <td>5.889</td>\n      <td>39.0</td>\n      <td>5.4509</td>\n      <td>5</td>\n      <td>311</td>\n      <td>15.2</td>\n      <td>390.50</td>\n      <td>15.71</td>\n      <td>21.7</td>\n    </tr>\n  </tbody>\n</table>\n</div>"
     },
     "execution_count": 20,
     "metadata": {},
     "output_type": "execute_result"
    }
   ],
   "source": [
    "dataset7_2"
   ],
   "metadata": {
    "collapsed": false,
    "pycharm": {
     "name": "#%%\n"
    }
   }
  },
  {
   "cell_type": "code",
   "execution_count": 21,
   "outputs": [
    {
     "data": {
      "text/plain": "       CRIM  ZN  INDUS  CHAS    NOX     RM    AGE     DIS  RAD  TAX  PTRATIO  \\\n0   0.72580   0   8.14     0  0.538  5.727   69.5  3.7965    4  307       21   \n1   1.25179   0   8.14     0  0.538  5.570   98.1  3.7979    4  307       21   \n2   0.85204   0   8.14     0  0.538  5.965   89.2  4.0123    4  307       21   \n3   1.23247   0   8.14     0  0.538  6.142   91.7  3.9769    4  307       21   \n4   0.98843   0   8.14     0  0.538  5.813  100.0  4.0952    4  307       21   \n5   0.75026   0   8.14     0  0.538  5.924   94.1  4.3996    4  307       21   \n6   0.84054   0   8.14     0  0.538  5.599   85.7  4.4546    4  307       21   \n7   0.67191   0   8.14     0  0.538  5.813   90.3  4.6820    4  307       21   \n8   0.95577   0   8.14     0  0.538  6.047   88.8  4.4534    4  307       21   \n9   0.77299   0   8.14     0  0.538  6.495   94.4  4.4547    4  307       21   \n10  0.62976   0   8.14     0  0.538  5.949   61.8  4.7075    4  307       21   \n11  0.63796   0   8.14     0  0.538  6.096   84.5  4.4619    4  307       21   \n12  0.62739   0   8.14     0  0.538  5.834   56.5  4.4986    4  307       21   \n13  1.05393   0   8.14     0  0.538  5.935   29.3  4.4986    4  307       21   \n14  0.78420   0   8.14     0  0.538  5.990   81.7  4.2579    4  307       21   \n15  0.80271   0   8.14     0  0.538  5.456   36.6  3.7965    4  307       21   \n\n         B  LSTAT  PRICE  \n0   390.95  11.28   18.2  \n1   376.57  21.02   13.6  \n2   392.53  13.83   19.6  \n3   396.90  18.72   15.2  \n4   394.54  19.88   14.5  \n5   394.33  16.30   15.6  \n6   303.42  16.51   13.9  \n7   376.88  14.81   16.6  \n8   306.38  17.28   14.8  \n9   387.94  12.80   18.4  \n10  396.90   8.26   20.4  \n11  380.02  10.26   18.2  \n12  395.62   8.47   19.9  \n13  386.85   6.58   23.1  \n14  386.75  14.67   17.5  \n15  288.99  11.69   20.2  ",
      "text/html": "<div>\n<style scoped>\n    .dataframe tbody tr th:only-of-type {\n        vertical-align: middle;\n    }\n\n    .dataframe tbody tr th {\n        vertical-align: top;\n    }\n\n    .dataframe thead th {\n        text-align: right;\n    }\n</style>\n<table border=\"1\" class=\"dataframe\">\n  <thead>\n    <tr style=\"text-align: right;\">\n      <th></th>\n      <th>CRIM</th>\n      <th>ZN</th>\n      <th>INDUS</th>\n      <th>CHAS</th>\n      <th>NOX</th>\n      <th>RM</th>\n      <th>AGE</th>\n      <th>DIS</th>\n      <th>RAD</th>\n      <th>TAX</th>\n      <th>PTRATIO</th>\n      <th>B</th>\n      <th>LSTAT</th>\n      <th>PRICE</th>\n    </tr>\n  </thead>\n  <tbody>\n    <tr>\n      <th>0</th>\n      <td>0.72580</td>\n      <td>0</td>\n      <td>8.14</td>\n      <td>0</td>\n      <td>0.538</td>\n      <td>5.727</td>\n      <td>69.5</td>\n      <td>3.7965</td>\n      <td>4</td>\n      <td>307</td>\n      <td>21</td>\n      <td>390.95</td>\n      <td>11.28</td>\n      <td>18.2</td>\n    </tr>\n    <tr>\n      <th>1</th>\n      <td>1.25179</td>\n      <td>0</td>\n      <td>8.14</td>\n      <td>0</td>\n      <td>0.538</td>\n      <td>5.570</td>\n      <td>98.1</td>\n      <td>3.7979</td>\n      <td>4</td>\n      <td>307</td>\n      <td>21</td>\n      <td>376.57</td>\n      <td>21.02</td>\n      <td>13.6</td>\n    </tr>\n    <tr>\n      <th>2</th>\n      <td>0.85204</td>\n      <td>0</td>\n      <td>8.14</td>\n      <td>0</td>\n      <td>0.538</td>\n      <td>5.965</td>\n      <td>89.2</td>\n      <td>4.0123</td>\n      <td>4</td>\n      <td>307</td>\n      <td>21</td>\n      <td>392.53</td>\n      <td>13.83</td>\n      <td>19.6</td>\n    </tr>\n    <tr>\n      <th>3</th>\n      <td>1.23247</td>\n      <td>0</td>\n      <td>8.14</td>\n      <td>0</td>\n      <td>0.538</td>\n      <td>6.142</td>\n      <td>91.7</td>\n      <td>3.9769</td>\n      <td>4</td>\n      <td>307</td>\n      <td>21</td>\n      <td>396.90</td>\n      <td>18.72</td>\n      <td>15.2</td>\n    </tr>\n    <tr>\n      <th>4</th>\n      <td>0.98843</td>\n      <td>0</td>\n      <td>8.14</td>\n      <td>0</td>\n      <td>0.538</td>\n      <td>5.813</td>\n      <td>100.0</td>\n      <td>4.0952</td>\n      <td>4</td>\n      <td>307</td>\n      <td>21</td>\n      <td>394.54</td>\n      <td>19.88</td>\n      <td>14.5</td>\n    </tr>\n    <tr>\n      <th>5</th>\n      <td>0.75026</td>\n      <td>0</td>\n      <td>8.14</td>\n      <td>0</td>\n      <td>0.538</td>\n      <td>5.924</td>\n      <td>94.1</td>\n      <td>4.3996</td>\n      <td>4</td>\n      <td>307</td>\n      <td>21</td>\n      <td>394.33</td>\n      <td>16.30</td>\n      <td>15.6</td>\n    </tr>\n    <tr>\n      <th>6</th>\n      <td>0.84054</td>\n      <td>0</td>\n      <td>8.14</td>\n      <td>0</td>\n      <td>0.538</td>\n      <td>5.599</td>\n      <td>85.7</td>\n      <td>4.4546</td>\n      <td>4</td>\n      <td>307</td>\n      <td>21</td>\n      <td>303.42</td>\n      <td>16.51</td>\n      <td>13.9</td>\n    </tr>\n    <tr>\n      <th>7</th>\n      <td>0.67191</td>\n      <td>0</td>\n      <td>8.14</td>\n      <td>0</td>\n      <td>0.538</td>\n      <td>5.813</td>\n      <td>90.3</td>\n      <td>4.6820</td>\n      <td>4</td>\n      <td>307</td>\n      <td>21</td>\n      <td>376.88</td>\n      <td>14.81</td>\n      <td>16.6</td>\n    </tr>\n    <tr>\n      <th>8</th>\n      <td>0.95577</td>\n      <td>0</td>\n      <td>8.14</td>\n      <td>0</td>\n      <td>0.538</td>\n      <td>6.047</td>\n      <td>88.8</td>\n      <td>4.4534</td>\n      <td>4</td>\n      <td>307</td>\n      <td>21</td>\n      <td>306.38</td>\n      <td>17.28</td>\n      <td>14.8</td>\n    </tr>\n    <tr>\n      <th>9</th>\n      <td>0.77299</td>\n      <td>0</td>\n      <td>8.14</td>\n      <td>0</td>\n      <td>0.538</td>\n      <td>6.495</td>\n      <td>94.4</td>\n      <td>4.4547</td>\n      <td>4</td>\n      <td>307</td>\n      <td>21</td>\n      <td>387.94</td>\n      <td>12.80</td>\n      <td>18.4</td>\n    </tr>\n    <tr>\n      <th>10</th>\n      <td>0.62976</td>\n      <td>0</td>\n      <td>8.14</td>\n      <td>0</td>\n      <td>0.538</td>\n      <td>5.949</td>\n      <td>61.8</td>\n      <td>4.7075</td>\n      <td>4</td>\n      <td>307</td>\n      <td>21</td>\n      <td>396.90</td>\n      <td>8.26</td>\n      <td>20.4</td>\n    </tr>\n    <tr>\n      <th>11</th>\n      <td>0.63796</td>\n      <td>0</td>\n      <td>8.14</td>\n      <td>0</td>\n      <td>0.538</td>\n      <td>6.096</td>\n      <td>84.5</td>\n      <td>4.4619</td>\n      <td>4</td>\n      <td>307</td>\n      <td>21</td>\n      <td>380.02</td>\n      <td>10.26</td>\n      <td>18.2</td>\n    </tr>\n    <tr>\n      <th>12</th>\n      <td>0.62739</td>\n      <td>0</td>\n      <td>8.14</td>\n      <td>0</td>\n      <td>0.538</td>\n      <td>5.834</td>\n      <td>56.5</td>\n      <td>4.4986</td>\n      <td>4</td>\n      <td>307</td>\n      <td>21</td>\n      <td>395.62</td>\n      <td>8.47</td>\n      <td>19.9</td>\n    </tr>\n    <tr>\n      <th>13</th>\n      <td>1.05393</td>\n      <td>0</td>\n      <td>8.14</td>\n      <td>0</td>\n      <td>0.538</td>\n      <td>5.935</td>\n      <td>29.3</td>\n      <td>4.4986</td>\n      <td>4</td>\n      <td>307</td>\n      <td>21</td>\n      <td>386.85</td>\n      <td>6.58</td>\n      <td>23.1</td>\n    </tr>\n    <tr>\n      <th>14</th>\n      <td>0.78420</td>\n      <td>0</td>\n      <td>8.14</td>\n      <td>0</td>\n      <td>0.538</td>\n      <td>5.990</td>\n      <td>81.7</td>\n      <td>4.2579</td>\n      <td>4</td>\n      <td>307</td>\n      <td>21</td>\n      <td>386.75</td>\n      <td>14.67</td>\n      <td>17.5</td>\n    </tr>\n    <tr>\n      <th>15</th>\n      <td>0.80271</td>\n      <td>0</td>\n      <td>8.14</td>\n      <td>0</td>\n      <td>0.538</td>\n      <td>5.456</td>\n      <td>36.6</td>\n      <td>3.7965</td>\n      <td>4</td>\n      <td>307</td>\n      <td>21</td>\n      <td>288.99</td>\n      <td>11.69</td>\n      <td>20.2</td>\n    </tr>\n  </tbody>\n</table>\n</div>"
     },
     "execution_count": 21,
     "metadata": {},
     "output_type": "execute_result"
    }
   ],
   "source": [
    "dataset7_3"
   ],
   "metadata": {
    "collapsed": false,
    "pycharm": {
     "name": "#%%\n"
    }
   }
  },
  {
   "cell_type": "code",
   "execution_count": 22,
   "outputs": [
    {
     "data": {
      "text/plain": "  Bedroom, Sq. foot, Locality, Price ($)\n0                  2, 1500, Good, 300000\n1                  3, 1300, Fair, 240000\n2             3, 1900, Very good, 450000\n3                   3, 1850, Bad, 280000\n4                  2, 1640, Good, 310000",
      "text/html": "<div>\n<style scoped>\n    .dataframe tbody tr th:only-of-type {\n        vertical-align: middle;\n    }\n\n    .dataframe tbody tr th {\n        vertical-align: top;\n    }\n\n    .dataframe thead th {\n        text-align: right;\n    }\n</style>\n<table border=\"1\" class=\"dataframe\">\n  <thead>\n    <tr style=\"text-align: right;\">\n      <th></th>\n      <th>Bedroom, Sq. foot, Locality, Price ($)</th>\n    </tr>\n  </thead>\n  <tbody>\n    <tr>\n      <th>0</th>\n      <td>2, 1500, Good, 300000</td>\n    </tr>\n    <tr>\n      <th>1</th>\n      <td>3, 1300, Fair, 240000</td>\n    </tr>\n    <tr>\n      <th>2</th>\n      <td>3, 1900, Very good, 450000</td>\n    </tr>\n    <tr>\n      <th>3</th>\n      <td>3, 1850, Bad, 280000</td>\n    </tr>\n    <tr>\n      <th>4</th>\n      <td>2, 1640, Good, 310000</td>\n    </tr>\n  </tbody>\n</table>\n</div>"
     },
     "execution_count": 22,
     "metadata": {},
     "output_type": "execute_result"
    }
   ],
   "source": [
    "dataset8 = pd.read_table('../../Chapter05/Exercise60-68/Table_EX_1.txt')\n",
    "dataset8"
   ],
   "metadata": {
    "collapsed": false,
    "pycharm": {
     "name": "#%%\n"
    }
   }
  },
  {
   "cell_type": "code",
   "execution_count": 23,
   "outputs": [
    {
     "data": {
      "text/plain": "   Bedroom   Sq. foot    Locality   Price ($)\n0        2       1500        Good      300000\n1        3       1300        Fair      240000\n2        3       1900   Very good      450000\n3        3       1850         Bad      280000\n4        2       1640        Good      310000",
      "text/html": "<div>\n<style scoped>\n    .dataframe tbody tr th:only-of-type {\n        vertical-align: middle;\n    }\n\n    .dataframe tbody tr th {\n        vertical-align: top;\n    }\n\n    .dataframe thead th {\n        text-align: right;\n    }\n</style>\n<table border=\"1\" class=\"dataframe\">\n  <thead>\n    <tr style=\"text-align: right;\">\n      <th></th>\n      <th>Bedroom</th>\n      <th>Sq. foot</th>\n      <th>Locality</th>\n      <th>Price ($)</th>\n    </tr>\n  </thead>\n  <tbody>\n    <tr>\n      <th>0</th>\n      <td>2</td>\n      <td>1500</td>\n      <td>Good</td>\n      <td>300000</td>\n    </tr>\n    <tr>\n      <th>1</th>\n      <td>3</td>\n      <td>1300</td>\n      <td>Fair</td>\n      <td>240000</td>\n    </tr>\n    <tr>\n      <th>2</th>\n      <td>3</td>\n      <td>1900</td>\n      <td>Very good</td>\n      <td>450000</td>\n    </tr>\n    <tr>\n      <th>3</th>\n      <td>3</td>\n      <td>1850</td>\n      <td>Bad</td>\n      <td>280000</td>\n    </tr>\n    <tr>\n      <th>4</th>\n      <td>2</td>\n      <td>1640</td>\n      <td>Good</td>\n      <td>310000</td>\n    </tr>\n  </tbody>\n</table>\n</div>"
     },
     "execution_count": 23,
     "metadata": {},
     "output_type": "execute_result"
    }
   ],
   "source": [
    "dataset8_1 = pd.read_table('../../Chapter05/Exercise60-68/Table_EX_1.txt',\n",
    "                           sep=',')\n",
    "dataset8_1"
   ],
   "metadata": {
    "collapsed": false,
    "pycharm": {
     "name": "#%%\n"
    }
   }
  },
  {
   "cell_type": "code",
   "execution_count": 27,
   "outputs": [
    {
     "data": {
      "text/plain": "                             Bank Name               City  ST   CERT  \\\n0                    Almena State Bank             Almena  KS  15426   \n1           First City Bank of Florida  Fort Walton Beach  FL  16748   \n2                 The First State Bank      Barboursville  WV  14361   \n3                   Ericson State Bank            Ericson  NE  18265   \n4     City National Bank of New Jersey             Newark  NJ  21111   \n..                                 ...                ...  ..    ...   \n558                 Superior Bank, FSB           Hinsdale  IL  32646   \n559                Malta National Bank              Malta  OH   6629   \n560    First Alliance Bank & Trust Co.         Manchester  NH  34264   \n561  National State Bank of Metropolis         Metropolis  IL   3815   \n562                   Bank of Honolulu           Honolulu  HI  21029   \n\n                   Acquiring Institution       Closing Date  \n0                            Equity Bank   October 23, 2020  \n1              United Fidelity Bank, fsb   October 16, 2020  \n2                         MVB Bank, Inc.      April 3, 2020  \n3             Farmers and Merchants Bank  February 14, 2020  \n4                        Industrial Bank   November 1, 2019  \n..                                   ...                ...  \n558                Superior Federal, FSB      July 27, 2001  \n559                    North Valley Bank        May 3, 2001  \n560  Southern New Hampshire Bank & Trust   February 2, 2001  \n561              Banterra Bank of Marion  December 14, 2000  \n562                   Bank of the Orient   October 13, 2000  \n\n[563 rows x 6 columns]",
      "text/html": "<div>\n<style scoped>\n    .dataframe tbody tr th:only-of-type {\n        vertical-align: middle;\n    }\n\n    .dataframe tbody tr th {\n        vertical-align: top;\n    }\n\n    .dataframe thead th {\n        text-align: right;\n    }\n</style>\n<table border=\"1\" class=\"dataframe\">\n  <thead>\n    <tr style=\"text-align: right;\">\n      <th></th>\n      <th>Bank Name</th>\n      <th>City</th>\n      <th>ST</th>\n      <th>CERT</th>\n      <th>Acquiring Institution</th>\n      <th>Closing Date</th>\n    </tr>\n  </thead>\n  <tbody>\n    <tr>\n      <th>0</th>\n      <td>Almena State Bank</td>\n      <td>Almena</td>\n      <td>KS</td>\n      <td>15426</td>\n      <td>Equity Bank</td>\n      <td>October 23, 2020</td>\n    </tr>\n    <tr>\n      <th>1</th>\n      <td>First City Bank of Florida</td>\n      <td>Fort Walton Beach</td>\n      <td>FL</td>\n      <td>16748</td>\n      <td>United Fidelity Bank, fsb</td>\n      <td>October 16, 2020</td>\n    </tr>\n    <tr>\n      <th>2</th>\n      <td>The First State Bank</td>\n      <td>Barboursville</td>\n      <td>WV</td>\n      <td>14361</td>\n      <td>MVB Bank, Inc.</td>\n      <td>April 3, 2020</td>\n    </tr>\n    <tr>\n      <th>3</th>\n      <td>Ericson State Bank</td>\n      <td>Ericson</td>\n      <td>NE</td>\n      <td>18265</td>\n      <td>Farmers and Merchants Bank</td>\n      <td>February 14, 2020</td>\n    </tr>\n    <tr>\n      <th>4</th>\n      <td>City National Bank of New Jersey</td>\n      <td>Newark</td>\n      <td>NJ</td>\n      <td>21111</td>\n      <td>Industrial Bank</td>\n      <td>November 1, 2019</td>\n    </tr>\n    <tr>\n      <th>...</th>\n      <td>...</td>\n      <td>...</td>\n      <td>...</td>\n      <td>...</td>\n      <td>...</td>\n      <td>...</td>\n    </tr>\n    <tr>\n      <th>558</th>\n      <td>Superior Bank, FSB</td>\n      <td>Hinsdale</td>\n      <td>IL</td>\n      <td>32646</td>\n      <td>Superior Federal, FSB</td>\n      <td>July 27, 2001</td>\n    </tr>\n    <tr>\n      <th>559</th>\n      <td>Malta National Bank</td>\n      <td>Malta</td>\n      <td>OH</td>\n      <td>6629</td>\n      <td>North Valley Bank</td>\n      <td>May 3, 2001</td>\n    </tr>\n    <tr>\n      <th>560</th>\n      <td>First Alliance Bank &amp; Trust Co.</td>\n      <td>Manchester</td>\n      <td>NH</td>\n      <td>34264</td>\n      <td>Southern New Hampshire Bank &amp; Trust</td>\n      <td>February 2, 2001</td>\n    </tr>\n    <tr>\n      <th>561</th>\n      <td>National State Bank of Metropolis</td>\n      <td>Metropolis</td>\n      <td>IL</td>\n      <td>3815</td>\n      <td>Banterra Bank of Marion</td>\n      <td>December 14, 2000</td>\n    </tr>\n    <tr>\n      <th>562</th>\n      <td>Bank of Honolulu</td>\n      <td>Honolulu</td>\n      <td>HI</td>\n      <td>21029</td>\n      <td>Bank of the Orient</td>\n      <td>October 13, 2000</td>\n    </tr>\n  </tbody>\n</table>\n<p>563 rows × 6 columns</p>\n</div>"
     },
     "execution_count": 27,
     "metadata": {},
     "output_type": "execute_result"
    }
   ],
   "source": [
    "dataset9 = pd.read_html('http://www.fdic.gov/bank/individual/failed/banklist.html')\n",
    "dataset9[0]"
   ],
   "metadata": {
    "collapsed": false,
    "pycharm": {
     "name": "#%%\n"
    }
   }
  },
  {
   "cell_type": "code",
   "execution_count": 29,
   "outputs": [
    {
     "data": {
      "text/plain": "                Rank                         NOC  Gold  Silver  Bronze  Total\n0                  1         United States (USA)    46      37      38    121\n1                  2         Great Britain (GBR)    27      23      17     67\n2                  3                 China (CHN)    26      18      26     70\n3                  4                Russia (RUS)    19      17      20     56\n4                  5               Germany (GER)    17      10      15     42\n..               ...                         ...   ...     ...     ...    ...\n82                78               Nigeria (NGR)     0       0       1      1\n83                78              Portugal (POR)     0       0       1      1\n84                78   Trinidad and Tobago (TTO)     0       0       1      1\n85                78  United Arab Emirates (UAE)     0       0       1      1\n86  Totals (86 NOCs)            Totals (86 NOCs)   307     307     359    973\n\n[87 rows x 6 columns]",
      "text/html": "<div>\n<style scoped>\n    .dataframe tbody tr th:only-of-type {\n        vertical-align: middle;\n    }\n\n    .dataframe tbody tr th {\n        vertical-align: top;\n    }\n\n    .dataframe thead th {\n        text-align: right;\n    }\n</style>\n<table border=\"1\" class=\"dataframe\">\n  <thead>\n    <tr style=\"text-align: right;\">\n      <th></th>\n      <th>Rank</th>\n      <th>NOC</th>\n      <th>Gold</th>\n      <th>Silver</th>\n      <th>Bronze</th>\n      <th>Total</th>\n    </tr>\n  </thead>\n  <tbody>\n    <tr>\n      <th>0</th>\n      <td>1</td>\n      <td>United States (USA)</td>\n      <td>46</td>\n      <td>37</td>\n      <td>38</td>\n      <td>121</td>\n    </tr>\n    <tr>\n      <th>1</th>\n      <td>2</td>\n      <td>Great Britain (GBR)</td>\n      <td>27</td>\n      <td>23</td>\n      <td>17</td>\n      <td>67</td>\n    </tr>\n    <tr>\n      <th>2</th>\n      <td>3</td>\n      <td>China (CHN)</td>\n      <td>26</td>\n      <td>18</td>\n      <td>26</td>\n      <td>70</td>\n    </tr>\n    <tr>\n      <th>3</th>\n      <td>4</td>\n      <td>Russia (RUS)</td>\n      <td>19</td>\n      <td>17</td>\n      <td>20</td>\n      <td>56</td>\n    </tr>\n    <tr>\n      <th>4</th>\n      <td>5</td>\n      <td>Germany (GER)</td>\n      <td>17</td>\n      <td>10</td>\n      <td>15</td>\n      <td>42</td>\n    </tr>\n    <tr>\n      <th>...</th>\n      <td>...</td>\n      <td>...</td>\n      <td>...</td>\n      <td>...</td>\n      <td>...</td>\n      <td>...</td>\n    </tr>\n    <tr>\n      <th>82</th>\n      <td>78</td>\n      <td>Nigeria (NGR)</td>\n      <td>0</td>\n      <td>0</td>\n      <td>1</td>\n      <td>1</td>\n    </tr>\n    <tr>\n      <th>83</th>\n      <td>78</td>\n      <td>Portugal (POR)</td>\n      <td>0</td>\n      <td>0</td>\n      <td>1</td>\n      <td>1</td>\n    </tr>\n    <tr>\n      <th>84</th>\n      <td>78</td>\n      <td>Trinidad and Tobago (TTO)</td>\n      <td>0</td>\n      <td>0</td>\n      <td>1</td>\n      <td>1</td>\n    </tr>\n    <tr>\n      <th>85</th>\n      <td>78</td>\n      <td>United Arab Emirates (UAE)</td>\n      <td>0</td>\n      <td>0</td>\n      <td>1</td>\n      <td>1</td>\n    </tr>\n    <tr>\n      <th>86</th>\n      <td>Totals (86 NOCs)</td>\n      <td>Totals (86 NOCs)</td>\n      <td>307</td>\n      <td>307</td>\n      <td>359</td>\n      <td>973</td>\n    </tr>\n  </tbody>\n</table>\n<p>87 rows × 6 columns</p>\n</div>"
     },
     "execution_count": 29,
     "metadata": {},
     "output_type": "execute_result"
    }
   ],
   "source": [
    "dataset10 = pd.read_html('https://en.wikipedia.org/wiki/2016_Summer_Olympics_medal_table', header=0)\n",
    "dataset10[1]"
   ],
   "metadata": {
    "collapsed": false,
    "pycharm": {
     "name": "#%%\n"
    }
   }
  },
  {
   "cell_type": "code",
   "execution_count": 30,
   "outputs": [
    {
     "data": {
      "text/plain": "                                      title  year  \\\n0                After Dark in Central Park  1900   \n1      Boarding School Girls' Pajama Parade  1900   \n2            Buffalo Bill's Wild West Parad  1900   \n3                                    Caught  1900   \n4                      Clowns Spinning Hats  1900   \n...                                     ...   ...   \n28790                             Bumblebee  2018   \n28791                     Welcome to Marwen  2018   \n28792                     Holmes and Watson  2018   \n28793                   On the Basis of Sex  2018   \n28794                             Destroyer  2018   \n\n                                                    cast  \\\n0                                                     []   \n1                                                     []   \n2                                                     []   \n3                                                     []   \n4                                                     []   \n...                                                  ...   \n28790  [Hailee Steinfeld, John Cena, Jorge Lendeborg ...   \n28791  [Steve Carell, Leslie Mann, Diane Kruger, Falk...   \n28792  [Will Ferrell, John C. Reilly, Rebecca Hall, R...   \n28793  [Felicity Jones, Armie Hammer, Justin Theroux,...   \n28794  [Nicole Kidman, Tatiana Maslany, Sebastian Sta...   \n\n                                     genres  \n0                                        []  \n1                                        []  \n2                                        []  \n3                                        []  \n4                                        []  \n...                                     ...  \n28790  [Action, Adventure, Science Fiction]  \n28791                      [Fantasy, Drama]  \n28792             [Action, Mystery, Comedy]  \n28793                    [Biography, Drama]  \n28794                     [Crime, Thriller]  \n\n[28795 rows x 4 columns]",
      "text/html": "<div>\n<style scoped>\n    .dataframe tbody tr th:only-of-type {\n        vertical-align: middle;\n    }\n\n    .dataframe tbody tr th {\n        vertical-align: top;\n    }\n\n    .dataframe thead th {\n        text-align: right;\n    }\n</style>\n<table border=\"1\" class=\"dataframe\">\n  <thead>\n    <tr style=\"text-align: right;\">\n      <th></th>\n      <th>title</th>\n      <th>year</th>\n      <th>cast</th>\n      <th>genres</th>\n    </tr>\n  </thead>\n  <tbody>\n    <tr>\n      <th>0</th>\n      <td>After Dark in Central Park</td>\n      <td>1900</td>\n      <td>[]</td>\n      <td>[]</td>\n    </tr>\n    <tr>\n      <th>1</th>\n      <td>Boarding School Girls' Pajama Parade</td>\n      <td>1900</td>\n      <td>[]</td>\n      <td>[]</td>\n    </tr>\n    <tr>\n      <th>2</th>\n      <td>Buffalo Bill's Wild West Parad</td>\n      <td>1900</td>\n      <td>[]</td>\n      <td>[]</td>\n    </tr>\n    <tr>\n      <th>3</th>\n      <td>Caught</td>\n      <td>1900</td>\n      <td>[]</td>\n      <td>[]</td>\n    </tr>\n    <tr>\n      <th>4</th>\n      <td>Clowns Spinning Hats</td>\n      <td>1900</td>\n      <td>[]</td>\n      <td>[]</td>\n    </tr>\n    <tr>\n      <th>...</th>\n      <td>...</td>\n      <td>...</td>\n      <td>...</td>\n      <td>...</td>\n    </tr>\n    <tr>\n      <th>28790</th>\n      <td>Bumblebee</td>\n      <td>2018</td>\n      <td>[Hailee Steinfeld, John Cena, Jorge Lendeborg ...</td>\n      <td>[Action, Adventure, Science Fiction]</td>\n    </tr>\n    <tr>\n      <th>28791</th>\n      <td>Welcome to Marwen</td>\n      <td>2018</td>\n      <td>[Steve Carell, Leslie Mann, Diane Kruger, Falk...</td>\n      <td>[Fantasy, Drama]</td>\n    </tr>\n    <tr>\n      <th>28792</th>\n      <td>Holmes and Watson</td>\n      <td>2018</td>\n      <td>[Will Ferrell, John C. Reilly, Rebecca Hall, R...</td>\n      <td>[Action, Mystery, Comedy]</td>\n    </tr>\n    <tr>\n      <th>28793</th>\n      <td>On the Basis of Sex</td>\n      <td>2018</td>\n      <td>[Felicity Jones, Armie Hammer, Justin Theroux,...</td>\n      <td>[Biography, Drama]</td>\n    </tr>\n    <tr>\n      <th>28794</th>\n      <td>Destroyer</td>\n      <td>2018</td>\n      <td>[Nicole Kidman, Tatiana Maslany, Sebastian Sta...</td>\n      <td>[Crime, Thriller]</td>\n    </tr>\n  </tbody>\n</table>\n<p>28795 rows × 4 columns</p>\n</div>"
     },
     "execution_count": 30,
     "metadata": {},
     "output_type": "execute_result"
    }
   ],
   "source": [
    "dataset11 = pd.read_json('../../Chapter05/Exercise60-68/movies.json')\n",
    "dataset11"
   ],
   "metadata": {
    "collapsed": false,
    "pycharm": {
     "name": "#%%\n"
    }
   }
  },
  {
   "cell_type": "code",
   "execution_count": 31,
   "outputs": [
    {
     "data": {
      "text/plain": "           id  year  province  totalpop  totalso2       reg_GDP  time  \\\n0     Beijing  1991   Beijing    1094.0    210000    598.900024   1.0   \n1     Beijing  1992   Beijing    1102.0    200000    709.099976   2.0   \n2     Beijing  1993   Beijing    1112.0    203736    863.530029   3.0   \n3     Beijing  1994   Beijing    1125.0    175616   1084.030029   4.0   \n4     Beijing  1995   Beijing    1251.0    214899   1394.890015   5.0   \n..        ...   ...       ...       ...       ...           ...   ...   \n505  Zhejiang  2003  Zhejiang    4680.0    707271   9705.019531  13.0   \n506  Zhejiang  2004  Zhejiang    4720.0    789000  11648.700195  14.0   \n507  Zhejiang  2005  Zhejiang    4898.0    831000  15742.509766  15.0   \n508  Zhejiang  2006  Zhejiang    4980.0    829000  15742.509766  16.0   \n509  Zhejiang  2007  Zhejiang    5060.0    775000  18780.439453  17.0   \n\n     treatment  provincearea  group       SO2PC     SO2PGDP     GDPPC  \\\n0            0         16800      1  191.956131  191.956131  0.547441   \n1            0         16800      1  181.488205  181.488205  0.643466   \n2            0         16800      1  183.215820  183.215820  0.776556   \n3            0         16800      1  156.103104  156.103104  0.963582   \n4            0         16800      1  171.781769  171.781769  1.115020   \n..         ...           ...    ...         ...         ...       ...   \n505          0        101800      0  151.126282  151.126282  2.073722   \n506          0        101800      0  167.161011  167.161011  2.467945   \n507          0        101800      0  169.661087  169.661087  3.214069   \n508          0        101800      0  166.465866  166.465866  3.161147   \n509          0        101800      0  153.162048  153.162048  3.711549   \n\n        GDPPC2  pop_density  \n0     0.299691     0.065119  \n1     0.414049     0.065595  \n2     0.603039     0.066190  \n3     0.928491     0.066964  \n4     1.243270     0.074464  \n..         ...          ...  \n505   4.300323     0.045972  \n506   6.090752     0.046365  \n507  10.330239     0.048114  \n508   9.992848     0.048919  \n509  13.775599     0.049705  \n\n[510 rows x 15 columns]",
      "text/html": "<div>\n<style scoped>\n    .dataframe tbody tr th:only-of-type {\n        vertical-align: middle;\n    }\n\n    .dataframe tbody tr th {\n        vertical-align: top;\n    }\n\n    .dataframe thead th {\n        text-align: right;\n    }\n</style>\n<table border=\"1\" class=\"dataframe\">\n  <thead>\n    <tr style=\"text-align: right;\">\n      <th></th>\n      <th>id</th>\n      <th>year</th>\n      <th>province</th>\n      <th>totalpop</th>\n      <th>totalso2</th>\n      <th>reg_GDP</th>\n      <th>time</th>\n      <th>treatment</th>\n      <th>provincearea</th>\n      <th>group</th>\n      <th>SO2PC</th>\n      <th>SO2PGDP</th>\n      <th>GDPPC</th>\n      <th>GDPPC2</th>\n      <th>pop_density</th>\n    </tr>\n  </thead>\n  <tbody>\n    <tr>\n      <th>0</th>\n      <td>Beijing</td>\n      <td>1991</td>\n      <td>Beijing</td>\n      <td>1094.0</td>\n      <td>210000</td>\n      <td>598.900024</td>\n      <td>1.0</td>\n      <td>0</td>\n      <td>16800</td>\n      <td>1</td>\n      <td>191.956131</td>\n      <td>191.956131</td>\n      <td>0.547441</td>\n      <td>0.299691</td>\n      <td>0.065119</td>\n    </tr>\n    <tr>\n      <th>1</th>\n      <td>Beijing</td>\n      <td>1992</td>\n      <td>Beijing</td>\n      <td>1102.0</td>\n      <td>200000</td>\n      <td>709.099976</td>\n      <td>2.0</td>\n      <td>0</td>\n      <td>16800</td>\n      <td>1</td>\n      <td>181.488205</td>\n      <td>181.488205</td>\n      <td>0.643466</td>\n      <td>0.414049</td>\n      <td>0.065595</td>\n    </tr>\n    <tr>\n      <th>2</th>\n      <td>Beijing</td>\n      <td>1993</td>\n      <td>Beijing</td>\n      <td>1112.0</td>\n      <td>203736</td>\n      <td>863.530029</td>\n      <td>3.0</td>\n      <td>0</td>\n      <td>16800</td>\n      <td>1</td>\n      <td>183.215820</td>\n      <td>183.215820</td>\n      <td>0.776556</td>\n      <td>0.603039</td>\n      <td>0.066190</td>\n    </tr>\n    <tr>\n      <th>3</th>\n      <td>Beijing</td>\n      <td>1994</td>\n      <td>Beijing</td>\n      <td>1125.0</td>\n      <td>175616</td>\n      <td>1084.030029</td>\n      <td>4.0</td>\n      <td>0</td>\n      <td>16800</td>\n      <td>1</td>\n      <td>156.103104</td>\n      <td>156.103104</td>\n      <td>0.963582</td>\n      <td>0.928491</td>\n      <td>0.066964</td>\n    </tr>\n    <tr>\n      <th>4</th>\n      <td>Beijing</td>\n      <td>1995</td>\n      <td>Beijing</td>\n      <td>1251.0</td>\n      <td>214899</td>\n      <td>1394.890015</td>\n      <td>5.0</td>\n      <td>0</td>\n      <td>16800</td>\n      <td>1</td>\n      <td>171.781769</td>\n      <td>171.781769</td>\n      <td>1.115020</td>\n      <td>1.243270</td>\n      <td>0.074464</td>\n    </tr>\n    <tr>\n      <th>...</th>\n      <td>...</td>\n      <td>...</td>\n      <td>...</td>\n      <td>...</td>\n      <td>...</td>\n      <td>...</td>\n      <td>...</td>\n      <td>...</td>\n      <td>...</td>\n      <td>...</td>\n      <td>...</td>\n      <td>...</td>\n      <td>...</td>\n      <td>...</td>\n      <td>...</td>\n    </tr>\n    <tr>\n      <th>505</th>\n      <td>Zhejiang</td>\n      <td>2003</td>\n      <td>Zhejiang</td>\n      <td>4680.0</td>\n      <td>707271</td>\n      <td>9705.019531</td>\n      <td>13.0</td>\n      <td>0</td>\n      <td>101800</td>\n      <td>0</td>\n      <td>151.126282</td>\n      <td>151.126282</td>\n      <td>2.073722</td>\n      <td>4.300323</td>\n      <td>0.045972</td>\n    </tr>\n    <tr>\n      <th>506</th>\n      <td>Zhejiang</td>\n      <td>2004</td>\n      <td>Zhejiang</td>\n      <td>4720.0</td>\n      <td>789000</td>\n      <td>11648.700195</td>\n      <td>14.0</td>\n      <td>0</td>\n      <td>101800</td>\n      <td>0</td>\n      <td>167.161011</td>\n      <td>167.161011</td>\n      <td>2.467945</td>\n      <td>6.090752</td>\n      <td>0.046365</td>\n    </tr>\n    <tr>\n      <th>507</th>\n      <td>Zhejiang</td>\n      <td>2005</td>\n      <td>Zhejiang</td>\n      <td>4898.0</td>\n      <td>831000</td>\n      <td>15742.509766</td>\n      <td>15.0</td>\n      <td>0</td>\n      <td>101800</td>\n      <td>0</td>\n      <td>169.661087</td>\n      <td>169.661087</td>\n      <td>3.214069</td>\n      <td>10.330239</td>\n      <td>0.048114</td>\n    </tr>\n    <tr>\n      <th>508</th>\n      <td>Zhejiang</td>\n      <td>2006</td>\n      <td>Zhejiang</td>\n      <td>4980.0</td>\n      <td>829000</td>\n      <td>15742.509766</td>\n      <td>16.0</td>\n      <td>0</td>\n      <td>101800</td>\n      <td>0</td>\n      <td>166.465866</td>\n      <td>166.465866</td>\n      <td>3.161147</td>\n      <td>9.992848</td>\n      <td>0.048919</td>\n    </tr>\n    <tr>\n      <th>509</th>\n      <td>Zhejiang</td>\n      <td>2007</td>\n      <td>Zhejiang</td>\n      <td>5060.0</td>\n      <td>775000</td>\n      <td>18780.439453</td>\n      <td>17.0</td>\n      <td>0</td>\n      <td>101800</td>\n      <td>0</td>\n      <td>153.162048</td>\n      <td>153.162048</td>\n      <td>3.711549</td>\n      <td>13.775599</td>\n      <td>0.049705</td>\n    </tr>\n  </tbody>\n</table>\n<p>510 rows × 15 columns</p>\n</div>"
     },
     "execution_count": 31,
     "metadata": {},
     "output_type": "execute_result"
    }
   ],
   "source": [
    "dataset12 = pd.read_stata('../../Chapter05/Exercise60-68/wu-data.dta')\n",
    "dataset12"
   ],
   "metadata": {
    "collapsed": false,
    "pycharm": {
     "name": "#%%\n"
    }
   }
  },
  {
   "cell_type": "code",
   "execution_count": 55,
   "outputs": [
    {
     "data": {
      "text/plain": "         0     1     2  3      4      5     6       7  8    9\n0  0.17004  12.5  7.87  0  0.524  6.004  85.9  6.5921  5  311\n1  0.22489  12.5  7.87  0  0.524  6.377  94.3  6.3467  5  311\n2  0.11747  12.5  7.87  0  0.524  6.009  82.9  6.2267  5  311\n3  0.09378  12.5  7.87  0  0.524  5.889  39.0  5.4509  5  311",
      "text/html": "<div>\n<style scoped>\n    .dataframe tbody tr th:only-of-type {\n        vertical-align: middle;\n    }\n\n    .dataframe tbody tr th {\n        vertical-align: top;\n    }\n\n    .dataframe thead th {\n        text-align: right;\n    }\n</style>\n<table border=\"1\" class=\"dataframe\">\n  <thead>\n    <tr style=\"text-align: right;\">\n      <th></th>\n      <th>0</th>\n      <th>1</th>\n      <th>2</th>\n      <th>3</th>\n      <th>4</th>\n      <th>5</th>\n      <th>6</th>\n      <th>7</th>\n      <th>8</th>\n      <th>9</th>\n    </tr>\n  </thead>\n  <tbody>\n    <tr>\n      <th>0</th>\n      <td>0.17004</td>\n      <td>12.5</td>\n      <td>7.87</td>\n      <td>0</td>\n      <td>0.524</td>\n      <td>6.004</td>\n      <td>85.9</td>\n      <td>6.5921</td>\n      <td>5</td>\n      <td>311</td>\n    </tr>\n    <tr>\n      <th>1</th>\n      <td>0.22489</td>\n      <td>12.5</td>\n      <td>7.87</td>\n      <td>0</td>\n      <td>0.524</td>\n      <td>6.377</td>\n      <td>94.3</td>\n      <td>6.3467</td>\n      <td>5</td>\n      <td>311</td>\n    </tr>\n    <tr>\n      <th>2</th>\n      <td>0.11747</td>\n      <td>12.5</td>\n      <td>7.87</td>\n      <td>0</td>\n      <td>0.524</td>\n      <td>6.009</td>\n      <td>82.9</td>\n      <td>6.2267</td>\n      <td>5</td>\n      <td>311</td>\n    </tr>\n    <tr>\n      <th>3</th>\n      <td>0.09378</td>\n      <td>12.5</td>\n      <td>7.87</td>\n      <td>0</td>\n      <td>0.524</td>\n      <td>5.889</td>\n      <td>39.0</td>\n      <td>5.4509</td>\n      <td>5</td>\n      <td>311</td>\n    </tr>\n  </tbody>\n</table>\n</div>"
     },
     "execution_count": 55,
     "metadata": {},
     "output_type": "execute_result"
    }
   ],
   "source": [
    "dataset13 = read_pdf('../../Chapter05/Exercise60-68/Housing_data.pdf',\n",
    "                         pages=[1], pandas_options={'header':None})\n",
    "dataset13[0]"
   ],
   "metadata": {
    "collapsed": false,
    "pycharm": {
     "name": "#%%\n"
    }
   }
  },
  {
   "cell_type": "code",
   "execution_count": null,
   "outputs": [],
   "source": [],
   "metadata": {
    "collapsed": false,
    "pycharm": {
     "name": "#%%\n"
    }
   }
  }
 ],
 "metadata": {
  "kernelspec": {
   "display_name": "Python 3",
   "language": "python",
   "name": "python3"
  },
  "language_info": {
   "codemirror_mode": {
    "name": "ipython",
    "version": 2
   },
   "file_extension": ".py",
   "mimetype": "text/x-python",
   "name": "python",
   "nbconvert_exporter": "python",
   "pygments_lexer": "ipython2",
   "version": "2.7.6"
  }
 },
 "nbformat": 4,
 "nbformat_minor": 0
}